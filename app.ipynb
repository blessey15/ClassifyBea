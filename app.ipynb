{
  "nbformat": 4,
  "nbformat_minor": 0,
  "metadata": {
    "colab": {
      "name": "app.ipynb",
      "provenance": []
    },
    "kernelspec": {
      "name": "python3",
      "display_name": "Python 3"
    },
    "language_info": {
      "name": "python"
    }
  },
  "cells": [
    {
      "cell_type": "code",
      "metadata": {
        "colab": {
          "base_uri": "https://localhost:8080/"
        },
        "id": "A4YOqRDI0Eje",
        "outputId": "28760eca-9921-4d47-b3d2-ab40ae71fa78"
      },
      "source": [
        "from google.colab import drive\n",
        "drive.mount('/content/drive')"
      ],
      "execution_count": null,
      "outputs": [
        {
          "output_type": "stream",
          "text": [
            "Mounted at /content/drive\n"
          ],
          "name": "stdout"
        }
      ]
    },
    {
      "cell_type": "code",
      "metadata": {
        "colab": {
          "base_uri": "https://localhost:8080/"
        },
        "id": "DR91si0t0Ibr",
        "outputId": "4da22cf6-c46b-40eb-820b-1cb37855a4be"
      },
      "source": [
        "cd /content/drive/MyDrive/classifyapp"
      ],
      "execution_count": null,
      "outputs": [
        {
          "output_type": "stream",
          "text": [
            "/content/drive/MyDrive/classifyapp\n"
          ],
          "name": "stdout"
        }
      ]
    },
    {
      "cell_type": "code",
      "metadata": {
        "colab": {
          "base_uri": "https://localhost:8080/"
        },
        "id": "3iN35a41wSk5",
        "outputId": "614f60dd-9070-4c07-ba25-e54cf20a1576"
      },
      "source": [
        "!pip install flask-ngrok"
      ],
      "execution_count": null,
      "outputs": [
        {
          "output_type": "stream",
          "text": [
            "Collecting flask-ngrok\n",
            "  Downloading https://files.pythonhosted.org/packages/af/6c/f54cb686ad1129e27d125d182f90f52b32f284e6c8df58c1bae54fa1adbc/flask_ngrok-0.0.25-py3-none-any.whl\n",
            "Requirement already satisfied: requests in /usr/local/lib/python3.7/dist-packages (from flask-ngrok) (2.23.0)\n",
            "Requirement already satisfied: Flask>=0.8 in /usr/local/lib/python3.7/dist-packages (from flask-ngrok) (1.1.2)\n",
            "Requirement already satisfied: chardet<4,>=3.0.2 in /usr/local/lib/python3.7/dist-packages (from requests->flask-ngrok) (3.0.4)\n",
            "Requirement already satisfied: certifi>=2017.4.17 in /usr/local/lib/python3.7/dist-packages (from requests->flask-ngrok) (2020.12.5)\n",
            "Requirement already satisfied: urllib3!=1.25.0,!=1.25.1,<1.26,>=1.21.1 in /usr/local/lib/python3.7/dist-packages (from requests->flask-ngrok) (1.24.3)\n",
            "Requirement already satisfied: idna<3,>=2.5 in /usr/local/lib/python3.7/dist-packages (from requests->flask-ngrok) (2.10)\n",
            "Requirement already satisfied: click>=5.1 in /usr/local/lib/python3.7/dist-packages (from Flask>=0.8->flask-ngrok) (8.0.0)\n",
            "Requirement already satisfied: itsdangerous>=0.24 in /usr/local/lib/python3.7/dist-packages (from Flask>=0.8->flask-ngrok) (2.0.0)\n",
            "Requirement already satisfied: Werkzeug>=0.15 in /usr/local/lib/python3.7/dist-packages (from Flask>=0.8->flask-ngrok) (2.0.0)\n",
            "Requirement already satisfied: Jinja2>=2.10.1 in /usr/local/lib/python3.7/dist-packages (from Flask>=0.8->flask-ngrok) (2.11.3)\n",
            "Requirement already satisfied: MarkupSafe>=0.23 in /usr/local/lib/python3.7/dist-packages (from Jinja2>=2.10.1->Flask>=0.8->flask-ngrok) (2.0.0)\n",
            "Installing collected packages: flask-ngrok\n",
            "Successfully installed flask-ngrok-0.0.25\n"
          ],
          "name": "stdout"
        }
      ]
    },
    {
      "cell_type": "code",
      "metadata": {
        "id": "BftRxMzvxqLe"
      },
      "source": [
        "from flask_ngrok import run_with_ngrok\n",
        "from flask import Flask\n",
        "from flask import render_template, request\n",
        "from keras.models import load_model\n",
        "from keras.preprocessing import image"
      ],
      "execution_count": null,
      "outputs": []
    },
    {
      "cell_type": "code",
      "metadata": {
        "colab": {
          "base_uri": "https://localhost:8080/"
        },
        "id": "sfrcIq7-xr6c",
        "outputId": "cda01227-a772-4e22-b1b1-4d7b1106021c"
      },
      "source": [
        "app = Flask(__name__)\n",
        "run_with_ngrok(app)\n",
        "dic = {0 : 'Jackfruit', 1 : 'Mango'}\n",
        "\n",
        "model = load_model('model.h5')\n",
        "\n",
        "model.make_predict_function()\n",
        "\n",
        "def predict_label(img_path):\n",
        "\ti = image.load_img(img_path, target_size=(100,100))\n",
        "\ti = image.img_to_array(i)/255.0\n",
        "\ti = i.reshape(1, 100,100,3)\n",
        "\tp = model.predict_classes(i)\n",
        "\treturn dic[p[0]]\n",
        "\n",
        "\n",
        "# routes\n",
        "@app.route(\"/\", methods=['GET', 'POST'])\n",
        "def main():\n",
        "\treturn render_template(\"index.html\")\n",
        "\n",
        "@app.route(\"/about\")\n",
        "def about_page():\n",
        "\treturn \"Please subscribe  Artificial Intelligence Hub..!!!\"\n",
        "\n",
        "@app.route(\"/submit\", methods = ['GET', 'POST'])\n",
        "def get_output():\n",
        "\tif request.method == 'POST':\n",
        "\t\timg = request.files['my_image']\n",
        "\n",
        "\t\timg_path = \"static/\" + img.filename\t\n",
        "\t\timg.save(img_path)\n",
        "\n",
        "\t\tp = predict_label(img_path)\n",
        "\n",
        "\treturn render_template(\"index.html\", prediction = p, img_path = img_path)\n",
        "\n",
        "\n",
        "if __name__ =='__main__':\n",
        "\t#app.debug = True\n",
        "\tapp.run()"
      ],
      "execution_count": 13,
      "outputs": [
        {
          "output_type": "stream",
          "text": [
            " * Serving Flask app \"__main__\" (lazy loading)\n",
            " * Environment: production\n",
            "\u001b[31m   WARNING: This is a development server. Do not use it in a production deployment.\u001b[0m\n",
            "\u001b[2m   Use a production WSGI server instead.\u001b[0m\n",
            " * Debug mode: off\n",
            " * Running on http://622ffe0801e6.ngrok.io\n",
            " * Traffic stats available on http://127.0.0.1:4040\n"
          ],
          "name": "stdout"
        },
        {
          "output_type": "stream",
          "text": [
            "127.0.0.1 - - [21/May/2021 08:59:53] \"GET / HTTP/1.1\" 200 -\n",
            "127.0.0.1 - - [21/May/2021 08:59:54] \"\u001b[33mGET /feature.jpg HTTP/1.1\u001b[0m\" 404 -\n",
            "127.0.0.1 - - [21/May/2021 08:59:54] \"\u001b[33mGET /favicon.ico HTTP/1.1\u001b[0m\" 404 -\n",
            "/usr/local/lib/python3.7/dist-packages/tensorflow/python/keras/engine/sequential.py:450: UserWarning: `model.predict_classes()` is deprecated and will be removed after 2021-01-01. Please use instead:* `np.argmax(model.predict(x), axis=-1)`,   if your model does multi-class classification   (e.g. if it uses a `softmax` last-layer activation).* `(model.predict(x) > 0.5).astype(\"int32\")`,   if your model does binary classification   (e.g. if it uses a `sigmoid` last-layer activation).\n",
            "  warnings.warn('`model.predict_classes()` is deprecated and '\n",
            "127.0.0.1 - - [21/May/2021 09:00:03] \"POST /submit HTTP/1.1\" 200 -\n",
            "127.0.0.1 - - [21/May/2021 09:00:03] \"GET /static/092_bd5a2b08.jpg HTTP/1.1\" 200 -\n",
            "127.0.0.1 - - [21/May/2021 09:00:03] \"\u001b[33mGET /feature.jpg HTTP/1.1\u001b[0m\" 404 -\n",
            "127.0.0.1 - - [21/May/2021 09:00:22] \"POST /submit HTTP/1.1\" 200 -\n",
            "127.0.0.1 - - [21/May/2021 09:00:23] \"GET /static/038_e6dab855.jpg HTTP/1.1\" 200 -\n",
            "127.0.0.1 - - [21/May/2021 09:00:23] \"\u001b[33mGET /feature.jpg HTTP/1.1\u001b[0m\" 404 -\n",
            "127.0.0.1 - - [21/May/2021 09:00:37] \"POST /submit HTTP/1.1\" 200 -\n",
            "127.0.0.1 - - [21/May/2021 09:00:38] \"GET /static/009_5d36efe1.jpg HTTP/1.1\" 200 -\n",
            "127.0.0.1 - - [21/May/2021 09:00:38] \"\u001b[33mGET /feature.jpg HTTP/1.1\u001b[0m\" 404 -\n",
            "127.0.0.1 - - [21/May/2021 09:00:50] \"POST /submit HTTP/1.1\" 200 -\n",
            "127.0.0.1 - - [21/May/2021 09:00:51] \"\u001b[33mGET /feature.jpg HTTP/1.1\u001b[0m\" 404 -\n",
            "127.0.0.1 - - [21/May/2021 09:01:05] \"POST /submit HTTP/1.1\" 200 -\n",
            "127.0.0.1 - - [21/May/2021 09:01:05] \"GET /static/004_b1506728.jpg HTTP/1.1\" 200 -\n",
            "127.0.0.1 - - [21/May/2021 09:01:05] \"\u001b[33mGET /feature.jpg HTTP/1.1\u001b[0m\" 404 -\n"
          ],
          "name": "stderr"
        }
      ]
    }
  ]
}