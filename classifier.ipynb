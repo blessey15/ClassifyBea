{
  "nbformat": 4,
  "nbformat_minor": 0,
  "metadata": {
    "colab": {
      "name": "classifier.ipynb",
      "provenance": [],
      "collapsed_sections": [],
      "include_colab_link": true
    },
    "kernelspec": {
      "name": "python3",
      "display_name": "Python 3"
    },
    "language_info": {
      "name": "python"
    },
    "accelerator": "GPU"
  },
  "cells": [
    {
      "cell_type": "markdown",
      "metadata": {
        "id": "view-in-github",
        "colab_type": "text"
      },
      "source": [
        "<a href=\"https://colab.research.google.com/github/blessey15/ClassifyBea/blob/main/classifier.ipynb\" target=\"_parent\"><img src=\"https://colab.research.google.com/assets/colab-badge.svg\" alt=\"Open In Colab\"/></a>"
      ]
    },
    {
      "cell_type": "markdown",
      "metadata": {
        "id": "-OyrC-trclaT"
      },
      "source": [
        ""
      ]
    },
    {
      "cell_type": "code",
      "metadata": {
        "colab": {
          "base_uri": "https://localhost:8080/"
        },
        "id": "skmbQqInWuLU",
        "outputId": "e9d5bf63-60e7-4a3b-e9f8-b40a77148ea6"
      },
      "source": [
        "from google.colab import drive\n",
        "drive.mount('/content/drive')"
      ],
      "execution_count": 1,
      "outputs": [
        {
          "output_type": "stream",
          "text": [
            "Mounted at /content/drive\n"
          ],
          "name": "stdout"
        }
      ]
    },
    {
      "cell_type": "code",
      "metadata": {
        "colab": {
          "base_uri": "https://localhost:8080/"
        },
        "id": "noO6bH67WyJB",
        "outputId": "ec7c2109-69b3-4f7a-b39a-eaa92f8549c1"
      },
      "source": [
        "cd /content/drive/MyDrive/classifyapp"
      ],
      "execution_count": 2,
      "outputs": [
        {
          "output_type": "stream",
          "text": [
            "/content/drive/MyDrive/classifyapp\n"
          ],
          "name": "stdout"
        }
      ]
    },
    {
      "cell_type": "code",
      "metadata": {
        "id": "viL6cgFV0_17"
      },
      "source": [
        "%tensorflow_version 2.x"
      ],
      "execution_count": 3,
      "outputs": []
    },
    {
      "cell_type": "code",
      "metadata": {
        "id": "lKXgeipszXcw",
        "colab": {
          "base_uri": "https://localhost:8080/"
        },
        "outputId": "b240f872-87f0-40e3-b32a-1af813fd6565"
      },
      "source": [
        "\n",
        "import tensorflow as tf\n",
        "from tensorflow.keras.optimizers import RMSprop\n",
        "from tensorflow.keras.preprocessing.image import ImageDataGenerator\n",
        "print(tf.__version__)"
      ],
      "execution_count": 4,
      "outputs": [
        {
          "output_type": "stream",
          "text": [
            "2.4.1\n"
          ],
          "name": "stdout"
        }
      ]
    },
    {
      "cell_type": "code",
      "metadata": {
        "colab": {
          "base_uri": "https://localhost:8080/"
        },
        "id": "U0FaORavXbO4",
        "outputId": "1430a384-45d4-466a-be3e-6634e3155ea7"
      },
      "source": [
        "import cv2,os\n",
        "data_path='/content/drive/MyDrive/classifyapp/images/'\n",
        "categories=os.listdir(data_path)\n",
        "labels=[i for i in range(len(categories))]\n",
        "\n",
        "label_dict=dict(zip(categories,labels)) #empty dictionary\n",
        "print(label_dict)\n",
        "print(categories)\n",
        "print(labels)"
      ],
      "execution_count": 5,
      "outputs": [
        {
          "output_type": "stream",
          "text": [
            "{'JackFruit': 0, 'Mango': 1}\n",
            "['JackFruit', 'Mango']\n",
            "[0, 1]\n"
          ],
          "name": "stdout"
        }
      ]
    },
    {
      "cell_type": "code",
      "metadata": {
        "id": "aX421l1GXs6M"
      },
      "source": [
        "img_size=100\n",
        "data=[]\n",
        "target=[]\n",
        "\n",
        "for category in categories:\n",
        "    folder_path=os.path.join(data_path,category)\n",
        "    img_names=os.listdir(folder_path)\n",
        "        \n",
        "    for img_name in img_names:\n",
        "        img_path=os.path.join(folder_path,img_name)\n",
        "        img=cv2.imread(img_path)\n",
        "\n",
        "        try:  \n",
        "            resized=cv2.resize(img,(img_size,img_size))\n",
        "            #resizing the image  into 100x100, since we need a fixed common size for all the images in the dataset\n",
        "            data.append(resized)\n",
        "            target.append(label_dict[category])\n",
        "            #appending the image and the label(categorized) into the list (dataset)\n",
        "        except Exception as e:\n",
        "            print('Exception:',e)\n",
        "            #if any exception rasied, the exception will be printed here. And pass to the next image"
      ],
      "execution_count": 6,
      "outputs": []
    },
    {
      "cell_type": "code",
      "metadata": {
        "id": "qKYXckm8X1vu"
      },
      "source": [
        "import numpy as np\n",
        "data=np.array(data)/255.0\n",
        "data=np.reshape(data,(data.shape[0],img_size,img_size,3))\n",
        "target=np.array(target)\n",
        "from keras.utils import np_utils\n",
        "new_target=np_utils.to_categorical(target)"
      ],
      "execution_count": 7,
      "outputs": []
    },
    {
      "cell_type": "code",
      "metadata": {
        "colab": {
          "base_uri": "https://localhost:8080/"
        },
        "id": "LhoU4wnzYzOF",
        "outputId": "e33b0454-3d8b-4611-c3ed-bc680c15c572"
      },
      "source": [
        "new_target.shape"
      ],
      "execution_count": 8,
      "outputs": [
        {
          "output_type": "execute_result",
          "data": {
            "text/plain": [
              "(137, 2)"
            ]
          },
          "metadata": {
            "tags": []
          },
          "execution_count": 8
        }
      ]
    },
    {
      "cell_type": "code",
      "metadata": {
        "colab": {
          "base_uri": "https://localhost:8080/"
        },
        "id": "2FLWyUxCY43F",
        "outputId": "49361ca6-0db2-40f2-d774-b6dc106219a4"
      },
      "source": [
        "data.shape"
      ],
      "execution_count": 9,
      "outputs": [
        {
          "output_type": "execute_result",
          "data": {
            "text/plain": [
              "(137, 100, 100, 3)"
            ]
          },
          "metadata": {
            "tags": []
          },
          "execution_count": 9
        }
      ]
    },
    {
      "cell_type": "code",
      "metadata": {
        "colab": {
          "base_uri": "https://localhost:8080/"
        },
        "id": "_Hge5uPEY8G2",
        "outputId": "27d0f766-df13-484f-fd50-016d9006142a"
      },
      "source": [
        "data.shape[1:]"
      ],
      "execution_count": 10,
      "outputs": [
        {
          "output_type": "execute_result",
          "data": {
            "text/plain": [
              "(100, 100, 3)"
            ]
          },
          "metadata": {
            "tags": []
          },
          "execution_count": 10
        }
      ]
    },
    {
      "cell_type": "code",
      "metadata": {
        "id": "YQfr_UF-1R0Q"
      },
      "source": [
        "model = tf.keras.models.Sequential([\n",
        "    tf.keras.layers.Conv2D(200, (3,3), activation='relu', input_shape=(100, 100, 3)),\n",
        "    tf.keras.layers.MaxPooling2D(2, 2),\n",
        "    tf.keras.layers.Conv2D(100, (3,3), activation='relu'),\n",
        "    tf.keras.layers.MaxPooling2D(2,2),\n",
        "    tf.keras.layers.Dropout(0.5),\n",
        "    tf.keras.layers.Flatten(),\n",
        "    tf.keras.layers.Dense(50, activation='relu'),\n",
        "    tf.keras.layers.Dense(2, activation='softmax')\n",
        "])\n"
      ],
      "execution_count": 11,
      "outputs": []
    },
    {
      "cell_type": "code",
      "metadata": {
        "id": "sDtBVzc71bk4"
      },
      "source": [
        "model.compile(loss='categorical_crossentropy',\n",
        "              optimizer=RMSprop(lr=1e-4),\n",
        "              metrics=['accuracy'])"
      ],
      "execution_count": 12,
      "outputs": []
    },
    {
      "cell_type": "code",
      "metadata": {
        "colab": {
          "base_uri": "https://localhost:8080/"
        },
        "id": "4a7lzh7ZZfdG",
        "outputId": "3d210090-be59-49de-ba94-0c16fbcab0e8"
      },
      "source": [
        "model.summary()"
      ],
      "execution_count": 13,
      "outputs": [
        {
          "output_type": "stream",
          "text": [
            "Model: \"sequential\"\n",
            "_________________________________________________________________\n",
            "Layer (type)                 Output Shape              Param #   \n",
            "=================================================================\n",
            "conv2d (Conv2D)              (None, 98, 98, 200)       5600      \n",
            "_________________________________________________________________\n",
            "max_pooling2d (MaxPooling2D) (None, 49, 49, 200)       0         \n",
            "_________________________________________________________________\n",
            "conv2d_1 (Conv2D)            (None, 47, 47, 100)       180100    \n",
            "_________________________________________________________________\n",
            "max_pooling2d_1 (MaxPooling2 (None, 23, 23, 100)       0         \n",
            "_________________________________________________________________\n",
            "dropout (Dropout)            (None, 23, 23, 100)       0         \n",
            "_________________________________________________________________\n",
            "flatten (Flatten)            (None, 52900)             0         \n",
            "_________________________________________________________________\n",
            "dense (Dense)                (None, 50)                2645050   \n",
            "_________________________________________________________________\n",
            "dense_1 (Dense)              (None, 2)                 102       \n",
            "=================================================================\n",
            "Total params: 2,830,852\n",
            "Trainable params: 2,830,852\n",
            "Non-trainable params: 0\n",
            "_________________________________________________________________\n"
          ],
          "name": "stdout"
        }
      ]
    },
    {
      "cell_type": "code",
      "metadata": {
        "id": "s5yhgI1ia1HM"
      },
      "source": [
        "from sklearn.model_selection import train_test_split\n",
        "train_data,test_data,train_target,test_target=train_test_split(data,new_target,test_size=0.1)"
      ],
      "execution_count": 14,
      "outputs": []
    },
    {
      "cell_type": "code",
      "metadata": {
        "colab": {
          "base_uri": "https://localhost:8080/"
        },
        "id": "wBp92cjTa3Zt",
        "outputId": "6bb61809-4ad0-4587-e79c-e3db4aea8e1d"
      },
      "source": [
        "train_data.shape"
      ],
      "execution_count": 15,
      "outputs": [
        {
          "output_type": "execute_result",
          "data": {
            "text/plain": [
              "(123, 100, 100, 3)"
            ]
          },
          "metadata": {
            "tags": []
          },
          "execution_count": 15
        }
      ]
    },
    {
      "cell_type": "code",
      "metadata": {
        "colab": {
          "base_uri": "https://localhost:8080/"
        },
        "id": "UNivnMfCa5wU",
        "outputId": "79e8dd3e-b97e-415f-ad3d-55e80b0844f6"
      },
      "source": [
        "train_target.shape"
      ],
      "execution_count": 16,
      "outputs": [
        {
          "output_type": "execute_result",
          "data": {
            "text/plain": [
              "(123, 2)"
            ]
          },
          "metadata": {
            "tags": []
          },
          "execution_count": 16
        }
      ]
    },
    {
      "cell_type": "code",
      "metadata": {
        "colab": {
          "base_uri": "https://localhost:8080/"
        },
        "id": "r_j4DMFfa-mG",
        "outputId": "c0faa436-9218-4b1e-ccfa-2ef92229fc20"
      },
      "source": [
        "history=model.fit(train_data,train_target,epochs=200,validation_split=0.2)"
      ],
      "execution_count": 17,
      "outputs": [
        {
          "output_type": "stream",
          "text": [
            "Epoch 1/200\n",
            "4/4 [==============================] - 34s 313ms/step - loss: 0.7694 - accuracy: 0.5932 - val_loss: 0.6712 - val_accuracy: 0.6400\n",
            "Epoch 2/200\n",
            "4/4 [==============================] - 0s 38ms/step - loss: 0.6620 - accuracy: 0.6087 - val_loss: 0.6951 - val_accuracy: 0.5200\n",
            "Epoch 3/200\n",
            "4/4 [==============================] - 0s 39ms/step - loss: 0.6708 - accuracy: 0.6181 - val_loss: 0.6340 - val_accuracy: 0.6000\n",
            "Epoch 4/200\n",
            "4/4 [==============================] - 0s 36ms/step - loss: 0.5904 - accuracy: 0.7773 - val_loss: 0.8781 - val_accuracy: 0.5200\n",
            "Epoch 5/200\n",
            "4/4 [==============================] - 0s 37ms/step - loss: 0.7169 - accuracy: 0.6183 - val_loss: 0.5974 - val_accuracy: 0.6400\n",
            "Epoch 6/200\n",
            "4/4 [==============================] - 0s 36ms/step - loss: 0.4367 - accuracy: 0.8030 - val_loss: 0.8409 - val_accuracy: 0.5600\n",
            "Epoch 7/200\n",
            "4/4 [==============================] - 0s 37ms/step - loss: 0.6195 - accuracy: 0.6988 - val_loss: 0.5947 - val_accuracy: 0.6800\n",
            "Epoch 8/200\n",
            "4/4 [==============================] - 0s 35ms/step - loss: 0.3454 - accuracy: 0.9186 - val_loss: 0.5912 - val_accuracy: 0.6400\n",
            "Epoch 9/200\n",
            "4/4 [==============================] - 0s 37ms/step - loss: 0.3342 - accuracy: 0.8541 - val_loss: 0.7259 - val_accuracy: 0.5600\n",
            "Epoch 10/200\n",
            "4/4 [==============================] - 0s 39ms/step - loss: 0.4443 - accuracy: 0.7333 - val_loss: 0.5854 - val_accuracy: 0.6800\n",
            "Epoch 11/200\n",
            "4/4 [==============================] - 0s 36ms/step - loss: 0.2368 - accuracy: 0.9379 - val_loss: 0.6075 - val_accuracy: 0.6800\n",
            "Epoch 12/200\n",
            "4/4 [==============================] - 0s 37ms/step - loss: 0.4680 - accuracy: 0.7203 - val_loss: 0.6028 - val_accuracy: 0.6400\n",
            "Epoch 13/200\n",
            "4/4 [==============================] - 0s 37ms/step - loss: 0.2254 - accuracy: 0.9783 - val_loss: 0.5935 - val_accuracy: 0.6400\n",
            "Epoch 14/200\n",
            "4/4 [==============================] - 0s 36ms/step - loss: 0.2365 - accuracy: 0.9534 - val_loss: 0.8774 - val_accuracy: 0.6000\n",
            "Epoch 15/200\n",
            "4/4 [==============================] - 0s 37ms/step - loss: 0.3413 - accuracy: 0.8448 - val_loss: 0.5788 - val_accuracy: 0.7200\n",
            "Epoch 16/200\n",
            "4/4 [==============================] - 0s 36ms/step - loss: 0.1725 - accuracy: 0.9659 - val_loss: 0.8770 - val_accuracy: 0.6400\n",
            "Epoch 17/200\n",
            "4/4 [==============================] - 0s 38ms/step - loss: 0.1693 - accuracy: 0.9101 - val_loss: 0.5946 - val_accuracy: 0.6800\n",
            "Epoch 18/200\n",
            "4/4 [==============================] - 0s 37ms/step - loss: 0.2020 - accuracy: 0.9194 - val_loss: 0.8254 - val_accuracy: 0.6800\n",
            "Epoch 19/200\n",
            "4/4 [==============================] - 0s 39ms/step - loss: 0.4019 - accuracy: 0.7207 - val_loss: 0.5344 - val_accuracy: 0.7600\n",
            "Epoch 20/200\n",
            "4/4 [==============================] - 0s 37ms/step - loss: 0.1309 - accuracy: 0.9752 - val_loss: 0.5440 - val_accuracy: 0.7200\n",
            "Epoch 21/200\n",
            "4/4 [==============================] - 0s 36ms/step - loss: 0.2239 - accuracy: 0.8914 - val_loss: 0.5918 - val_accuracy: 0.7600\n",
            "Epoch 22/200\n",
            "4/4 [==============================] - 0s 38ms/step - loss: 0.1049 - accuracy: 0.9959 - val_loss: 2.2326 - val_accuracy: 0.5200\n",
            "Epoch 23/200\n",
            "4/4 [==============================] - 0s 37ms/step - loss: 0.6770 - accuracy: 0.7918 - val_loss: 0.7617 - val_accuracy: 0.6800\n",
            "Epoch 24/200\n",
            "4/4 [==============================] - 0s 38ms/step - loss: 0.1724 - accuracy: 0.9068 - val_loss: 0.6019 - val_accuracy: 0.7600\n",
            "Epoch 25/200\n",
            "4/4 [==============================] - 0s 36ms/step - loss: 0.0687 - accuracy: 0.9938 - val_loss: 0.4788 - val_accuracy: 0.8400\n",
            "Epoch 26/200\n",
            "4/4 [==============================] - 0s 36ms/step - loss: 0.0613 - accuracy: 1.0000 - val_loss: 0.4352 - val_accuracy: 0.7600\n",
            "Epoch 27/200\n",
            "4/4 [==============================] - 0s 36ms/step - loss: 0.1588 - accuracy: 0.9318 - val_loss: 0.8890 - val_accuracy: 0.6400\n",
            "Epoch 28/200\n",
            "4/4 [==============================] - 0s 35ms/step - loss: 0.4410 - accuracy: 0.7112 - val_loss: 0.4669 - val_accuracy: 0.8000\n",
            "Epoch 29/200\n",
            "4/4 [==============================] - 0s 37ms/step - loss: 0.0633 - accuracy: 0.9845 - val_loss: 0.4581 - val_accuracy: 0.8000\n",
            "Epoch 30/200\n",
            "4/4 [==============================] - 0s 37ms/step - loss: 0.0478 - accuracy: 0.9907 - val_loss: 0.6192 - val_accuracy: 0.8000\n",
            "Epoch 31/200\n",
            "4/4 [==============================] - 0s 37ms/step - loss: 0.0421 - accuracy: 1.0000 - val_loss: 0.5443 - val_accuracy: 0.8400\n",
            "Epoch 32/200\n",
            "4/4 [==============================] - 0s 37ms/step - loss: 0.0539 - accuracy: 1.0000 - val_loss: 0.6401 - val_accuracy: 0.6800\n",
            "Epoch 33/200\n",
            "4/4 [==============================] - 0s 36ms/step - loss: 0.3619 - accuracy: 0.7923 - val_loss: 0.6964 - val_accuracy: 0.7600\n",
            "Epoch 34/200\n",
            "4/4 [==============================] - 0s 36ms/step - loss: 0.0569 - accuracy: 1.0000 - val_loss: 0.5245 - val_accuracy: 0.8400\n",
            "Epoch 35/200\n",
            "4/4 [==============================] - 0s 38ms/step - loss: 0.0367 - accuracy: 1.0000 - val_loss: 0.4384 - val_accuracy: 0.8400\n",
            "Epoch 36/200\n",
            "4/4 [==============================] - 0s 38ms/step - loss: 0.0447 - accuracy: 0.9845 - val_loss: 0.4749 - val_accuracy: 0.8800\n",
            "Epoch 37/200\n",
            "4/4 [==============================] - 0s 39ms/step - loss: 0.0237 - accuracy: 1.0000 - val_loss: 0.6309 - val_accuracy: 0.6800\n",
            "Epoch 38/200\n",
            "4/4 [==============================] - 0s 38ms/step - loss: 0.0904 - accuracy: 0.9689 - val_loss: 0.6415 - val_accuracy: 0.8000\n",
            "Epoch 39/200\n",
            "4/4 [==============================] - 0s 37ms/step - loss: 0.0215 - accuracy: 1.0000 - val_loss: 0.6761 - val_accuracy: 0.8000\n",
            "Epoch 40/200\n",
            "4/4 [==============================] - 0s 37ms/step - loss: 0.0347 - accuracy: 1.0000 - val_loss: 0.4550 - val_accuracy: 0.8800\n",
            "Epoch 41/200\n",
            "4/4 [==============================] - 0s 41ms/step - loss: 0.0384 - accuracy: 0.9845 - val_loss: 0.3775 - val_accuracy: 0.8000\n",
            "Epoch 42/200\n",
            "4/4 [==============================] - 0s 38ms/step - loss: 0.3830 - accuracy: 0.7772 - val_loss: 0.5575 - val_accuracy: 0.8000\n",
            "Epoch 43/200\n",
            "4/4 [==============================] - 0s 37ms/step - loss: 0.0276 - accuracy: 1.0000 - val_loss: 0.3785 - val_accuracy: 0.7600\n",
            "Epoch 44/200\n",
            "4/4 [==============================] - 0s 36ms/step - loss: 0.0388 - accuracy: 0.9907 - val_loss: 0.5058 - val_accuracy: 0.8400\n",
            "Epoch 45/200\n",
            "4/4 [==============================] - 0s 37ms/step - loss: 0.0179 - accuracy: 1.0000 - val_loss: 0.5474 - val_accuracy: 0.8400\n",
            "Epoch 46/200\n",
            "4/4 [==============================] - 0s 37ms/step - loss: 0.0171 - accuracy: 1.0000 - val_loss: 0.4496 - val_accuracy: 0.8400\n",
            "Epoch 47/200\n",
            "4/4 [==============================] - 0s 37ms/step - loss: 0.0154 - accuracy: 1.0000 - val_loss: 0.6124 - val_accuracy: 0.8400\n",
            "Epoch 48/200\n",
            "4/4 [==============================] - 0s 38ms/step - loss: 0.0112 - accuracy: 1.0000 - val_loss: 0.4941 - val_accuracy: 0.8400\n",
            "Epoch 49/200\n",
            "4/4 [==============================] - 0s 37ms/step - loss: 0.0107 - accuracy: 1.0000 - val_loss: 0.6110 - val_accuracy: 0.8400\n",
            "Epoch 50/200\n",
            "4/4 [==============================] - 0s 36ms/step - loss: 0.0109 - accuracy: 1.0000 - val_loss: 0.6747 - val_accuracy: 0.8400\n",
            "Epoch 51/200\n",
            "4/4 [==============================] - 0s 36ms/step - loss: 0.0098 - accuracy: 1.0000 - val_loss: 0.5577 - val_accuracy: 0.8400\n",
            "Epoch 52/200\n",
            "4/4 [==============================] - 0s 36ms/step - loss: 0.0236 - accuracy: 0.9898 - val_loss: 0.8277 - val_accuracy: 0.6400\n",
            "Epoch 53/200\n",
            "4/4 [==============================] - 0s 36ms/step - loss: 0.3526 - accuracy: 0.8601 - val_loss: 0.7213 - val_accuracy: 0.8000\n",
            "Epoch 54/200\n",
            "4/4 [==============================] - 0s 37ms/step - loss: 0.0097 - accuracy: 1.0000 - val_loss: 0.9179 - val_accuracy: 0.7600\n",
            "Epoch 55/200\n",
            "4/4 [==============================] - 0s 37ms/step - loss: 0.0129 - accuracy: 1.0000 - val_loss: 0.5832 - val_accuracy: 0.8400\n",
            "Epoch 56/200\n",
            "4/4 [==============================] - 0s 39ms/step - loss: 0.0065 - accuracy: 1.0000 - val_loss: 0.6090 - val_accuracy: 0.8400\n",
            "Epoch 57/200\n",
            "4/4 [==============================] - 0s 38ms/step - loss: 0.0054 - accuracy: 1.0000 - val_loss: 0.5984 - val_accuracy: 0.8400\n",
            "Epoch 58/200\n",
            "4/4 [==============================] - 0s 37ms/step - loss: 0.0051 - accuracy: 1.0000 - val_loss: 0.7676 - val_accuracy: 0.8000\n",
            "Epoch 59/200\n",
            "4/4 [==============================] - 0s 38ms/step - loss: 0.0060 - accuracy: 1.0000 - val_loss: 0.6352 - val_accuracy: 0.8400\n",
            "Epoch 60/200\n",
            "4/4 [==============================] - 0s 36ms/step - loss: 0.0040 - accuracy: 1.0000 - val_loss: 1.2262 - val_accuracy: 0.7200\n",
            "Epoch 61/200\n",
            "4/4 [==============================] - 0s 37ms/step - loss: 0.0126 - accuracy: 1.0000 - val_loss: 0.6045 - val_accuracy: 0.8400\n",
            "Epoch 62/200\n",
            "4/4 [==============================] - 0s 36ms/step - loss: 0.0040 - accuracy: 1.0000 - val_loss: 0.5060 - val_accuracy: 0.8800\n",
            "Epoch 63/200\n",
            "4/4 [==============================] - 0s 37ms/step - loss: 0.0041 - accuracy: 1.0000 - val_loss: 0.5447 - val_accuracy: 0.8800\n",
            "Epoch 64/200\n",
            "4/4 [==============================] - 0s 37ms/step - loss: 0.0034 - accuracy: 1.0000 - val_loss: 0.6284 - val_accuracy: 0.8400\n",
            "Epoch 65/200\n",
            "4/4 [==============================] - 0s 38ms/step - loss: 0.0025 - accuracy: 1.0000 - val_loss: 0.7999 - val_accuracy: 0.8400\n",
            "Epoch 66/200\n",
            "4/4 [==============================] - 0s 39ms/step - loss: 0.0035 - accuracy: 1.0000 - val_loss: 0.7332 - val_accuracy: 0.6000\n",
            "Epoch 67/200\n",
            "4/4 [==============================] - 0s 36ms/step - loss: 0.6968 - accuracy: 0.8047 - val_loss: 0.4244 - val_accuracy: 0.8800\n",
            "Epoch 68/200\n",
            "4/4 [==============================] - 0s 38ms/step - loss: 0.0080 - accuracy: 1.0000 - val_loss: 0.5445 - val_accuracy: 0.8400\n",
            "Epoch 69/200\n",
            "4/4 [==============================] - 0s 38ms/step - loss: 0.0032 - accuracy: 1.0000 - val_loss: 0.6600 - val_accuracy: 0.8400\n",
            "Epoch 70/200\n",
            "4/4 [==============================] - 0s 38ms/step - loss: 0.0026 - accuracy: 1.0000 - val_loss: 0.6373 - val_accuracy: 0.8400\n",
            "Epoch 71/200\n",
            "4/4 [==============================] - 0s 39ms/step - loss: 0.0031 - accuracy: 1.0000 - val_loss: 0.6276 - val_accuracy: 0.8400\n",
            "Epoch 72/200\n",
            "4/4 [==============================] - 0s 36ms/step - loss: 0.0034 - accuracy: 1.0000 - val_loss: 0.6365 - val_accuracy: 0.8400\n",
            "Epoch 73/200\n",
            "4/4 [==============================] - 0s 38ms/step - loss: 0.0031 - accuracy: 1.0000 - val_loss: 0.6010 - val_accuracy: 0.8400\n",
            "Epoch 74/200\n",
            "4/4 [==============================] - 0s 36ms/step - loss: 0.0024 - accuracy: 1.0000 - val_loss: 0.5009 - val_accuracy: 0.8800\n",
            "Epoch 75/200\n",
            "4/4 [==============================] - 0s 37ms/step - loss: 0.0032 - accuracy: 1.0000 - val_loss: 0.6005 - val_accuracy: 0.8400\n",
            "Epoch 76/200\n",
            "4/4 [==============================] - 0s 38ms/step - loss: 0.0026 - accuracy: 1.0000 - val_loss: 0.6406 - val_accuracy: 0.8400\n",
            "Epoch 77/200\n",
            "4/4 [==============================] - 0s 37ms/step - loss: 0.0016 - accuracy: 1.0000 - val_loss: 0.5414 - val_accuracy: 0.8800\n",
            "Epoch 78/200\n",
            "4/4 [==============================] - 0s 36ms/step - loss: 0.0031 - accuracy: 1.0000 - val_loss: 0.6637 - val_accuracy: 0.8400\n",
            "Epoch 79/200\n",
            "4/4 [==============================] - 0s 38ms/step - loss: 0.0013 - accuracy: 1.0000 - val_loss: 0.7354 - val_accuracy: 0.8400\n",
            "Epoch 80/200\n",
            "4/4 [==============================] - 0s 37ms/step - loss: 0.0013 - accuracy: 1.0000 - val_loss: 1.1023 - val_accuracy: 0.7600\n",
            "Epoch 81/200\n",
            "4/4 [==============================] - 0s 37ms/step - loss: 0.0032 - accuracy: 1.0000 - val_loss: 0.8897 - val_accuracy: 0.8400\n",
            "Epoch 82/200\n",
            "4/4 [==============================] - 0s 38ms/step - loss: 0.0012 - accuracy: 1.0000 - val_loss: 0.6454 - val_accuracy: 0.8400\n",
            "Epoch 83/200\n",
            "4/4 [==============================] - 0s 36ms/step - loss: 0.0011 - accuracy: 1.0000 - val_loss: 1.1670 - val_accuracy: 0.7600\n",
            "Epoch 84/200\n",
            "4/4 [==============================] - 0s 36ms/step - loss: 0.0017 - accuracy: 1.0000 - val_loss: 0.5837 - val_accuracy: 0.8800\n",
            "Epoch 85/200\n",
            "4/4 [==============================] - 0s 36ms/step - loss: 0.0011 - accuracy: 1.0000 - val_loss: 1.3857 - val_accuracy: 0.7200\n",
            "Epoch 86/200\n",
            "4/4 [==============================] - 0s 37ms/step - loss: 0.6343 - accuracy: 0.7898 - val_loss: 0.5378 - val_accuracy: 0.8800\n",
            "Epoch 87/200\n",
            "4/4 [==============================] - 0s 36ms/step - loss: 0.0029 - accuracy: 1.0000 - val_loss: 0.5613 - val_accuracy: 0.8800\n",
            "Epoch 88/200\n",
            "4/4 [==============================] - 0s 38ms/step - loss: 0.0018 - accuracy: 1.0000 - val_loss: 0.6312 - val_accuracy: 0.8400\n",
            "Epoch 89/200\n",
            "4/4 [==============================] - 0s 38ms/step - loss: 0.0015 - accuracy: 1.0000 - val_loss: 0.6458 - val_accuracy: 0.8400\n",
            "Epoch 90/200\n",
            "4/4 [==============================] - 0s 39ms/step - loss: 0.0018 - accuracy: 1.0000 - val_loss: 0.6511 - val_accuracy: 0.8400\n",
            "Epoch 91/200\n",
            "4/4 [==============================] - 0s 39ms/step - loss: 0.0013 - accuracy: 1.0000 - val_loss: 0.6626 - val_accuracy: 0.8400\n",
            "Epoch 92/200\n",
            "4/4 [==============================] - 0s 38ms/step - loss: 0.0014 - accuracy: 1.0000 - val_loss: 0.6912 - val_accuracy: 0.8400\n",
            "Epoch 93/200\n",
            "4/4 [==============================] - 0s 38ms/step - loss: 0.0012 - accuracy: 1.0000 - val_loss: 0.6982 - val_accuracy: 0.8400\n",
            "Epoch 94/200\n",
            "4/4 [==============================] - 0s 37ms/step - loss: 0.0012 - accuracy: 1.0000 - val_loss: 0.7137 - val_accuracy: 0.8400\n",
            "Epoch 95/200\n",
            "4/4 [==============================] - 0s 39ms/step - loss: 0.0011 - accuracy: 1.0000 - val_loss: 0.7128 - val_accuracy: 0.8400\n",
            "Epoch 96/200\n",
            "4/4 [==============================] - 0s 37ms/step - loss: 0.0011 - accuracy: 1.0000 - val_loss: 0.6807 - val_accuracy: 0.8400\n",
            "Epoch 97/200\n",
            "4/4 [==============================] - 0s 37ms/step - loss: 0.0012 - accuracy: 1.0000 - val_loss: 0.6726 - val_accuracy: 0.8400\n",
            "Epoch 98/200\n",
            "4/4 [==============================] - 0s 39ms/step - loss: 0.0012 - accuracy: 1.0000 - val_loss: 0.7555 - val_accuracy: 0.8400\n",
            "Epoch 99/200\n",
            "4/4 [==============================] - 0s 38ms/step - loss: 9.3284e-04 - accuracy: 1.0000 - val_loss: 0.7256 - val_accuracy: 0.8400\n",
            "Epoch 100/200\n",
            "4/4 [==============================] - 0s 37ms/step - loss: 9.0706e-04 - accuracy: 1.0000 - val_loss: 0.7443 - val_accuracy: 0.8400\n",
            "Epoch 101/200\n",
            "4/4 [==============================] - 0s 38ms/step - loss: 5.8962e-04 - accuracy: 1.0000 - val_loss: 0.7408 - val_accuracy: 0.8400\n",
            "Epoch 102/200\n",
            "4/4 [==============================] - 0s 37ms/step - loss: 6.8606e-04 - accuracy: 1.0000 - val_loss: 0.7494 - val_accuracy: 0.8400\n",
            "Epoch 103/200\n",
            "4/4 [==============================] - 0s 38ms/step - loss: 5.9454e-04 - accuracy: 1.0000 - val_loss: 0.5805 - val_accuracy: 0.8800\n",
            "Epoch 104/200\n",
            "4/4 [==============================] - 0s 38ms/step - loss: 8.6353e-04 - accuracy: 1.0000 - val_loss: 0.7798 - val_accuracy: 0.8400\n",
            "Epoch 105/200\n",
            "4/4 [==============================] - 0s 39ms/step - loss: 6.6176e-04 - accuracy: 1.0000 - val_loss: 0.7078 - val_accuracy: 0.8400\n",
            "Epoch 106/200\n",
            "4/4 [==============================] - 0s 37ms/step - loss: 5.6013e-04 - accuracy: 1.0000 - val_loss: 0.7188 - val_accuracy: 0.8400\n",
            "Epoch 107/200\n",
            "4/4 [==============================] - 0s 38ms/step - loss: 4.1425e-04 - accuracy: 1.0000 - val_loss: 0.8355 - val_accuracy: 0.8400\n",
            "Epoch 108/200\n",
            "4/4 [==============================] - 0s 37ms/step - loss: 3.5479e-04 - accuracy: 1.0000 - val_loss: 1.1565 - val_accuracy: 0.8000\n",
            "Epoch 109/200\n",
            "4/4 [==============================] - 0s 38ms/step - loss: 6.5061e-04 - accuracy: 1.0000 - val_loss: 0.8693 - val_accuracy: 0.8400\n",
            "Epoch 110/200\n",
            "4/4 [==============================] - 0s 38ms/step - loss: 2.9308e-04 - accuracy: 1.0000 - val_loss: 0.8336 - val_accuracy: 0.6800\n",
            "Epoch 111/200\n",
            "4/4 [==============================] - 0s 38ms/step - loss: 0.6808 - accuracy: 0.7831 - val_loss: 0.5856 - val_accuracy: 0.8800\n",
            "Epoch 112/200\n",
            "4/4 [==============================] - 0s 37ms/step - loss: 0.0011 - accuracy: 1.0000 - val_loss: 0.6047 - val_accuracy: 0.8800\n",
            "Epoch 113/200\n",
            "4/4 [==============================] - 0s 37ms/step - loss: 0.0014 - accuracy: 1.0000 - val_loss: 0.6247 - val_accuracy: 0.8400\n",
            "Epoch 114/200\n",
            "4/4 [==============================] - 0s 37ms/step - loss: 9.3048e-04 - accuracy: 1.0000 - val_loss: 0.6495 - val_accuracy: 0.8400\n",
            "Epoch 115/200\n",
            "4/4 [==============================] - 0s 39ms/step - loss: 5.1416e-04 - accuracy: 1.0000 - val_loss: 0.6619 - val_accuracy: 0.8400\n",
            "Epoch 116/200\n",
            "4/4 [==============================] - 0s 37ms/step - loss: 5.5958e-04 - accuracy: 1.0000 - val_loss: 0.6786 - val_accuracy: 0.8400\n",
            "Epoch 117/200\n",
            "4/4 [==============================] - 0s 38ms/step - loss: 5.2148e-04 - accuracy: 1.0000 - val_loss: 0.6946 - val_accuracy: 0.8400\n",
            "Epoch 118/200\n",
            "4/4 [==============================] - 0s 38ms/step - loss: 4.7914e-04 - accuracy: 1.0000 - val_loss: 0.7156 - val_accuracy: 0.8400\n",
            "Epoch 119/200\n",
            "4/4 [==============================] - 0s 37ms/step - loss: 5.5033e-04 - accuracy: 1.0000 - val_loss: 0.7308 - val_accuracy: 0.8400\n",
            "Epoch 120/200\n",
            "4/4 [==============================] - 0s 38ms/step - loss: 5.0325e-04 - accuracy: 1.0000 - val_loss: 0.8934 - val_accuracy: 0.8400\n",
            "Epoch 121/200\n",
            "4/4 [==============================] - 0s 37ms/step - loss: 5.4573e-04 - accuracy: 1.0000 - val_loss: 0.8580 - val_accuracy: 0.8400\n",
            "Epoch 122/200\n",
            "4/4 [==============================] - 0s 38ms/step - loss: 4.3014e-04 - accuracy: 1.0000 - val_loss: 0.8114 - val_accuracy: 0.8400\n",
            "Epoch 123/200\n",
            "4/4 [==============================] - 0s 39ms/step - loss: 3.0173e-04 - accuracy: 1.0000 - val_loss: 0.7844 - val_accuracy: 0.8400\n",
            "Epoch 124/200\n",
            "4/4 [==============================] - 0s 39ms/step - loss: 3.5766e-04 - accuracy: 1.0000 - val_loss: 0.7936 - val_accuracy: 0.8400\n",
            "Epoch 125/200\n",
            "4/4 [==============================] - 0s 35ms/step - loss: 4.4175e-04 - accuracy: 1.0000 - val_loss: 0.8206 - val_accuracy: 0.8400\n",
            "Epoch 126/200\n",
            "4/4 [==============================] - 0s 37ms/step - loss: 3.3064e-04 - accuracy: 1.0000 - val_loss: 0.8202 - val_accuracy: 0.8400\n",
            "Epoch 127/200\n",
            "4/4 [==============================] - 0s 37ms/step - loss: 3.2491e-04 - accuracy: 1.0000 - val_loss: 0.5997 - val_accuracy: 0.8800\n",
            "Epoch 128/200\n",
            "4/4 [==============================] - 0s 38ms/step - loss: 4.9712e-04 - accuracy: 1.0000 - val_loss: 0.7422 - val_accuracy: 0.8400\n",
            "Epoch 129/200\n",
            "4/4 [==============================] - 0s 37ms/step - loss: 2.2645e-04 - accuracy: 1.0000 - val_loss: 0.8748 - val_accuracy: 0.8400\n",
            "Epoch 130/200\n",
            "4/4 [==============================] - 0s 38ms/step - loss: 2.5275e-04 - accuracy: 1.0000 - val_loss: 0.7233 - val_accuracy: 0.8400\n",
            "Epoch 131/200\n",
            "4/4 [==============================] - 0s 37ms/step - loss: 2.8756e-04 - accuracy: 1.0000 - val_loss: 0.6817 - val_accuracy: 0.8400\n",
            "Epoch 132/200\n",
            "4/4 [==============================] - 0s 37ms/step - loss: 1.5640e-04 - accuracy: 1.0000 - val_loss: 0.7120 - val_accuracy: 0.8400\n",
            "Epoch 133/200\n",
            "4/4 [==============================] - 0s 37ms/step - loss: 2.4208e-04 - accuracy: 1.0000 - val_loss: 0.8735 - val_accuracy: 0.8400\n",
            "Epoch 134/200\n",
            "4/4 [==============================] - 0s 38ms/step - loss: 1.8811e-04 - accuracy: 1.0000 - val_loss: 0.6782 - val_accuracy: 0.8800\n",
            "Epoch 135/200\n",
            "4/4 [==============================] - 0s 37ms/step - loss: 2.8010e-04 - accuracy: 1.0000 - val_loss: 0.7179 - val_accuracy: 0.8800\n",
            "Epoch 136/200\n",
            "4/4 [==============================] - 0s 37ms/step - loss: 1.4867e-04 - accuracy: 1.0000 - val_loss: 0.8820 - val_accuracy: 0.8400\n",
            "Epoch 137/200\n",
            "4/4 [==============================] - 0s 38ms/step - loss: 1.0032e-04 - accuracy: 1.0000 - val_loss: 0.8390 - val_accuracy: 0.8400\n",
            "Epoch 138/200\n",
            "4/4 [==============================] - 0s 37ms/step - loss: 1.0086e-04 - accuracy: 1.0000 - val_loss: 1.8725 - val_accuracy: 0.7200\n",
            "Epoch 139/200\n",
            "4/4 [==============================] - 0s 38ms/step - loss: 0.7054 - accuracy: 0.8514 - val_loss: 0.7900 - val_accuracy: 0.8400\n",
            "Epoch 140/200\n",
            "4/4 [==============================] - 0s 39ms/step - loss: 1.6681e-04 - accuracy: 1.0000 - val_loss: 0.7917 - val_accuracy: 0.8400\n",
            "Epoch 141/200\n",
            "4/4 [==============================] - 0s 36ms/step - loss: 1.8775e-04 - accuracy: 1.0000 - val_loss: 0.7910 - val_accuracy: 0.8400\n",
            "Epoch 142/200\n",
            "4/4 [==============================] - 0s 39ms/step - loss: 1.5023e-04 - accuracy: 1.0000 - val_loss: 0.7921 - val_accuracy: 0.8400\n",
            "Epoch 143/200\n",
            "4/4 [==============================] - 0s 38ms/step - loss: 1.3163e-04 - accuracy: 1.0000 - val_loss: 0.7939 - val_accuracy: 0.8400\n",
            "Epoch 144/200\n",
            "4/4 [==============================] - 0s 39ms/step - loss: 1.9227e-04 - accuracy: 1.0000 - val_loss: 0.7953 - val_accuracy: 0.8400\n",
            "Epoch 145/200\n",
            "4/4 [==============================] - 0s 38ms/step - loss: 1.7572e-04 - accuracy: 1.0000 - val_loss: 0.7970 - val_accuracy: 0.8400\n",
            "Epoch 146/200\n",
            "4/4 [==============================] - 0s 38ms/step - loss: 1.5821e-04 - accuracy: 1.0000 - val_loss: 0.7995 - val_accuracy: 0.8400\n",
            "Epoch 147/200\n",
            "4/4 [==============================] - 0s 38ms/step - loss: 1.6192e-04 - accuracy: 1.0000 - val_loss: 0.7978 - val_accuracy: 0.8400\n",
            "Epoch 148/200\n",
            "4/4 [==============================] - 0s 37ms/step - loss: 1.6495e-04 - accuracy: 1.0000 - val_loss: 0.8026 - val_accuracy: 0.8400\n",
            "Epoch 149/200\n",
            "4/4 [==============================] - 0s 37ms/step - loss: 1.5137e-04 - accuracy: 1.0000 - val_loss: 0.8114 - val_accuracy: 0.8400\n",
            "Epoch 150/200\n",
            "4/4 [==============================] - 0s 37ms/step - loss: 1.1929e-04 - accuracy: 1.0000 - val_loss: 0.8029 - val_accuracy: 0.8400\n",
            "Epoch 151/200\n",
            "4/4 [==============================] - 0s 37ms/step - loss: 1.1189e-04 - accuracy: 1.0000 - val_loss: 0.8025 - val_accuracy: 0.8400\n",
            "Epoch 152/200\n",
            "4/4 [==============================] - 0s 38ms/step - loss: 1.1198e-04 - accuracy: 1.0000 - val_loss: 0.8083 - val_accuracy: 0.8400\n",
            "Epoch 153/200\n",
            "4/4 [==============================] - 0s 37ms/step - loss: 1.3098e-04 - accuracy: 1.0000 - val_loss: 0.8097 - val_accuracy: 0.8400\n",
            "Epoch 154/200\n",
            "4/4 [==============================] - 0s 37ms/step - loss: 1.3550e-04 - accuracy: 1.0000 - val_loss: 0.8291 - val_accuracy: 0.8400\n",
            "Epoch 155/200\n",
            "4/4 [==============================] - 0s 37ms/step - loss: 1.0173e-04 - accuracy: 1.0000 - val_loss: 0.8307 - val_accuracy: 0.8400\n",
            "Epoch 156/200\n",
            "4/4 [==============================] - 0s 37ms/step - loss: 1.3581e-04 - accuracy: 1.0000 - val_loss: 0.8195 - val_accuracy: 0.8400\n",
            "Epoch 157/200\n",
            "4/4 [==============================] - 0s 36ms/step - loss: 1.0824e-04 - accuracy: 1.0000 - val_loss: 0.8377 - val_accuracy: 0.8400\n",
            "Epoch 158/200\n",
            "4/4 [==============================] - 0s 36ms/step - loss: 1.3129e-04 - accuracy: 1.0000 - val_loss: 0.8018 - val_accuracy: 0.8400\n",
            "Epoch 159/200\n",
            "4/4 [==============================] - 0s 38ms/step - loss: 9.7687e-05 - accuracy: 1.0000 - val_loss: 0.8332 - val_accuracy: 0.8400\n",
            "Epoch 160/200\n",
            "4/4 [==============================] - 0s 36ms/step - loss: 1.1987e-04 - accuracy: 1.0000 - val_loss: 0.7829 - val_accuracy: 0.8400\n",
            "Epoch 161/200\n",
            "4/4 [==============================] - 0s 39ms/step - loss: 1.0932e-04 - accuracy: 1.0000 - val_loss: 0.7450 - val_accuracy: 0.8400\n",
            "Epoch 162/200\n",
            "4/4 [==============================] - 0s 40ms/step - loss: 1.2183e-04 - accuracy: 1.0000 - val_loss: 0.8560 - val_accuracy: 0.8400\n",
            "Epoch 163/200\n",
            "4/4 [==============================] - 0s 38ms/step - loss: 9.3305e-05 - accuracy: 1.0000 - val_loss: 0.8980 - val_accuracy: 0.8400\n",
            "Epoch 164/200\n",
            "4/4 [==============================] - 0s 37ms/step - loss: 6.7015e-05 - accuracy: 1.0000 - val_loss: 0.8769 - val_accuracy: 0.8400\n",
            "Epoch 165/200\n",
            "4/4 [==============================] - 0s 39ms/step - loss: 5.1481e-05 - accuracy: 1.0000 - val_loss: 0.9180 - val_accuracy: 0.8400\n",
            "Epoch 166/200\n",
            "4/4 [==============================] - 0s 38ms/step - loss: 6.7240e-05 - accuracy: 1.0000 - val_loss: 0.8624 - val_accuracy: 0.8400\n",
            "Epoch 167/200\n",
            "4/4 [==============================] - 0s 37ms/step - loss: 5.4833e-05 - accuracy: 1.0000 - val_loss: 0.9616 - val_accuracy: 0.8400\n",
            "Epoch 168/200\n",
            "4/4 [==============================] - 0s 36ms/step - loss: 4.8331e-05 - accuracy: 1.0000 - val_loss: 1.1369 - val_accuracy: 0.8400\n",
            "Epoch 169/200\n",
            "4/4 [==============================] - 0s 38ms/step - loss: 4.5759e-05 - accuracy: 1.0000 - val_loss: 0.7910 - val_accuracy: 0.8800\n",
            "Epoch 170/200\n",
            "4/4 [==============================] - 0s 37ms/step - loss: 0.0344 - accuracy: 0.9959 - val_loss: 1.1161 - val_accuracy: 0.8400\n",
            "Epoch 171/200\n",
            "4/4 [==============================] - 0s 37ms/step - loss: 9.7840e-05 - accuracy: 1.0000 - val_loss: 1.0044 - val_accuracy: 0.8400\n",
            "Epoch 172/200\n",
            "4/4 [==============================] - 0s 37ms/step - loss: 7.3570e-05 - accuracy: 1.0000 - val_loss: 0.9393 - val_accuracy: 0.8400\n",
            "Epoch 173/200\n",
            "4/4 [==============================] - 0s 36ms/step - loss: 6.7800e-05 - accuracy: 1.0000 - val_loss: 0.9622 - val_accuracy: 0.8400\n",
            "Epoch 174/200\n",
            "4/4 [==============================] - 0s 37ms/step - loss: 7.3921e-05 - accuracy: 1.0000 - val_loss: 0.9262 - val_accuracy: 0.8400\n",
            "Epoch 175/200\n",
            "4/4 [==============================] - 0s 38ms/step - loss: 6.3005e-05 - accuracy: 1.0000 - val_loss: 0.9671 - val_accuracy: 0.8400\n",
            "Epoch 176/200\n",
            "4/4 [==============================] - 0s 41ms/step - loss: 6.4019e-05 - accuracy: 1.0000 - val_loss: 0.9946 - val_accuracy: 0.8400\n",
            "Epoch 177/200\n",
            "4/4 [==============================] - 0s 39ms/step - loss: 5.4916e-05 - accuracy: 1.0000 - val_loss: 1.0253 - val_accuracy: 0.8400\n",
            "Epoch 178/200\n",
            "4/4 [==============================] - 0s 39ms/step - loss: 5.3471e-05 - accuracy: 1.0000 - val_loss: 0.9168 - val_accuracy: 0.8400\n",
            "Epoch 179/200\n",
            "4/4 [==============================] - 0s 38ms/step - loss: 5.8594e-05 - accuracy: 1.0000 - val_loss: 0.9895 - val_accuracy: 0.8400\n",
            "Epoch 180/200\n",
            "4/4 [==============================] - 0s 36ms/step - loss: 5.9527e-05 - accuracy: 1.0000 - val_loss: 0.9682 - val_accuracy: 0.8400\n",
            "Epoch 181/200\n",
            "4/4 [==============================] - 0s 37ms/step - loss: 3.9558e-05 - accuracy: 1.0000 - val_loss: 0.9983 - val_accuracy: 0.8400\n",
            "Epoch 182/200\n",
            "4/4 [==============================] - 0s 39ms/step - loss: 4.0550e-05 - accuracy: 1.0000 - val_loss: 1.0393 - val_accuracy: 0.8400\n",
            "Epoch 183/200\n",
            "4/4 [==============================] - 0s 38ms/step - loss: 5.0475e-05 - accuracy: 1.0000 - val_loss: 0.9462 - val_accuracy: 0.8400\n",
            "Epoch 184/200\n",
            "4/4 [==============================] - 0s 36ms/step - loss: 3.8015e-05 - accuracy: 1.0000 - val_loss: 0.9289 - val_accuracy: 0.8400\n",
            "Epoch 185/200\n",
            "4/4 [==============================] - 0s 37ms/step - loss: 3.5164e-05 - accuracy: 1.0000 - val_loss: 0.9360 - val_accuracy: 0.8400\n",
            "Epoch 186/200\n",
            "4/4 [==============================] - 0s 37ms/step - loss: 3.5302e-05 - accuracy: 1.0000 - val_loss: 1.0069 - val_accuracy: 0.8400\n",
            "Epoch 187/200\n",
            "4/4 [==============================] - 0s 39ms/step - loss: 3.7739e-05 - accuracy: 1.0000 - val_loss: 1.1342 - val_accuracy: 0.8400\n",
            "Epoch 188/200\n",
            "4/4 [==============================] - 0s 37ms/step - loss: 3.1361e-05 - accuracy: 1.0000 - val_loss: 0.8656 - val_accuracy: 0.8800\n",
            "Epoch 189/200\n",
            "4/4 [==============================] - 0s 39ms/step - loss: 3.8611e-05 - accuracy: 1.0000 - val_loss: 1.0188 - val_accuracy: 0.8400\n",
            "Epoch 190/200\n",
            "4/4 [==============================] - 0s 38ms/step - loss: 2.2755e-05 - accuracy: 1.0000 - val_loss: 0.8836 - val_accuracy: 0.8800\n",
            "Epoch 191/200\n",
            "4/4 [==============================] - 0s 38ms/step - loss: 2.7907e-05 - accuracy: 1.0000 - val_loss: 0.9761 - val_accuracy: 0.8400\n",
            "Epoch 192/200\n",
            "4/4 [==============================] - 0s 37ms/step - loss: 1.5908e-05 - accuracy: 1.0000 - val_loss: 1.0941 - val_accuracy: 0.8400\n",
            "Epoch 193/200\n",
            "4/4 [==============================] - 0s 37ms/step - loss: 1.9604e-05 - accuracy: 1.0000 - val_loss: 1.0824 - val_accuracy: 0.8400\n",
            "Epoch 194/200\n",
            "4/4 [==============================] - 0s 36ms/step - loss: 1.7932e-05 - accuracy: 1.0000 - val_loss: 1.0376 - val_accuracy: 0.8400\n",
            "Epoch 195/200\n",
            "4/4 [==============================] - 0s 38ms/step - loss: 1.5905e-05 - accuracy: 1.0000 - val_loss: 0.9134 - val_accuracy: 0.8800\n",
            "Epoch 196/200\n",
            "4/4 [==============================] - 0s 37ms/step - loss: 2.3532e-05 - accuracy: 1.0000 - val_loss: 1.1457 - val_accuracy: 0.8400\n",
            "Epoch 197/200\n",
            "4/4 [==============================] - 0s 37ms/step - loss: 1.3338e-05 - accuracy: 1.0000 - val_loss: 0.9652 - val_accuracy: 0.8400\n",
            "Epoch 198/200\n",
            "4/4 [==============================] - 0s 39ms/step - loss: 1.1440e-05 - accuracy: 1.0000 - val_loss: 1.0995 - val_accuracy: 0.8400\n",
            "Epoch 199/200\n",
            "4/4 [==============================] - 0s 38ms/step - loss: 9.3741e-06 - accuracy: 1.0000 - val_loss: 1.1764 - val_accuracy: 0.8400\n",
            "Epoch 200/200\n",
            "4/4 [==============================] - 0s 36ms/step - loss: 1.0054e-05 - accuracy: 1.0000 - val_loss: 1.0779 - val_accuracy: 0.8400\n"
          ],
          "name": "stdout"
        }
      ]
    },
    {
      "cell_type": "code",
      "metadata": {
        "id": "HeYu900ya_hV",
        "colab": {
          "base_uri": "https://localhost:8080/",
          "height": 299
        },
        "outputId": "972a555f-ba06-4c7a-c05f-87aa294bc628"
      },
      "source": [
        "import matplotlib.pyplot as plt\n",
        "\n",
        "N = 200\n",
        "plt.style.use(\"ggplot\")\n",
        "plt.figure()\n",
        "plt.plot(np.arange(0, N), history.history[\"loss\"], label=\"train_loss\")\n",
        "plt.plot(np.arange(0, N), history.history[\"val_loss\"], label=\"val_loss\")\n",
        "plt.plot(np.arange(0, N), history.history[\"accuracy\"], label=\"train_acc\")\n",
        "plt.plot(np.arange(0, N), history.history[\"val_accuracy\"], label=\"val_acc\")\n",
        "plt.title(\"Training Loss and Accuracy\")\n",
        "plt.xlabel(\"Epoch #\")\n",
        "plt.ylabel(\"Loss/Accuracy\")\n",
        "plt.legend(loc=\"center right\")\n",
        "plt.savefig(\"CNN_Model\")"
      ],
      "execution_count": 19,
      "outputs": [
        {
          "output_type": "display_data",
          "data": {
            "image/png": "[encoded data removed]",
            "text/plain": [
              "<Figure size 432x288 with 1 Axes>"
            ]
          },
          "metadata": {
            "tags": []
          }
        }
      ]
    }
  ]
}