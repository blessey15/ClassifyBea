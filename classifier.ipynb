{
  "nbformat": 4,
  "nbformat_minor": 0,
  "metadata": {
    "colab": {
      "name": "classifier.ipynb",
      "provenance": [],
      "collapsed_sections": [],
      "include_colab_link": true
    },
    "kernelspec": {
      "name": "python3",
      "display_name": "Python 3"
    },
    "language_info": {
      "name": "python"
    },
    "accelerator": "GPU"
  },
  "cells": [
    {
      "cell_type": "markdown",
      "metadata": {
        "id": "view-in-github",
        "colab_type": "text"
      },
      "source": [
        "<a href=\"https://colab.research.google.com/github/blessey15/ClassifyBea/blob/main/classifier.ipynb\" target=\"_parent\"><img src=\"https://colab.research.google.com/assets/colab-badge.svg\" alt=\"Open In Colab\"/></a>"
      ]
    },
    {
      "cell_type": "markdown",
      "metadata": {
        "id": "-OyrC-trclaT"
      },
      "source": [
        ""
      ]
    },
    {
      "cell_type": "code",
      "metadata": {
        "colab": {
          "base_uri": "https://localhost:8080/"
        },
        "id": "skmbQqInWuLU",
        "outputId": "4259c33d-8ced-43fe-cc43-e64c8682287b"
      },
      "source": [
        "from google.colab import drive\n",
        "drive.mount('/content/drive')"
      ],
      "execution_count": null,
      "outputs": [
        {
          "output_type": "stream",
          "text": [
            "Mounted at /content/drive\n"
          ],
          "name": "stdout"
        }
      ]
    },
    {
      "cell_type": "code",
      "metadata": {
        "colab": {
          "base_uri": "https://localhost:8080/"
        },
        "id": "noO6bH67WyJB",
        "outputId": "21c27c2e-060c-437c-c835-317ce793f387"
      },
      "source": [
        "cd /content/drive/MyDrive/classifyapp"
      ],
      "execution_count": null,
      "outputs": [
        {
          "output_type": "stream",
          "text": [
            "/content/drive/MyDrive/classifyapp\n"
          ],
          "name": "stdout"
        }
      ]
    },
    {
      "cell_type": "code",
      "metadata": {
        "id": "viL6cgFV0_17"
      },
      "source": [
        "%tensorflow_version 2.x"
      ],
      "execution_count": null,
      "outputs": []
    },
    {
      "cell_type": "code",
      "metadata": {
        "id": "lKXgeipszXcw",
        "colab": {
          "base_uri": "https://localhost:8080/"
        },
        "outputId": "6fcb8fc9-ea3e-4a27-d7a4-a60d0bc6acbd"
      },
      "source": [
        "import tensorflow as tf\n",
        "from tensorflow.keras.optimizers import RMSprop\n",
        "from tensorflow.keras.preprocessing.image import ImageDataGenerator\n",
        "print(tf.__version__)"
      ],
      "execution_count": null,
      "outputs": [
        {
          "output_type": "stream",
          "text": [
            "2.4.1\n"
          ],
          "name": "stdout"
        }
      ]
    },
    {
      "cell_type": "code",
      "metadata": {
        "colab": {
          "base_uri": "https://localhost:8080/"
        },
        "id": "U0FaORavXbO4",
        "outputId": "f6037384-d640-4138-df6e-86d1d2d1b35d"
      },
      "source": [
        "import cv2,os\n",
        "data_path='/content/drive/MyDrive/classifyapp/images/'\n",
        "categories=os.listdir(data_path)\n",
        "labels=[i for i in range(len(categories))]\n",
        "\n",
        "label_dict=dict(zip(categories,labels)) #empty dictionary\n",
        "print(label_dict)\n",
        "print(categories)\n",
        "print(labels)"
      ],
      "execution_count": null,
      "outputs": [
        {
          "output_type": "stream",
          "text": [
            "{'JackFruit': 0, 'Mango': 1}\n",
            "['JackFruit', 'Mango']\n",
            "[0, 1]\n"
          ],
          "name": "stdout"
        }
      ]
    },
    {
      "cell_type": "code",
      "metadata": {
        "id": "aX421l1GXs6M"
      },
      "source": [
        "img_size=100\n",
        "data=[]\n",
        "target=[]\n",
        "\n",
        "for category in categories:\n",
        "    folder_path=os.path.join(data_path,category)\n",
        "    img_names=os.listdir(folder_path)\n",
        "        \n",
        "    for img_name in img_names:\n",
        "        img_path=os.path.join(folder_path,img_name)\n",
        "        img=cv2.imread(img_path)\n",
        "\n",
        "        try:  \n",
        "            resized=cv2.resize(img,(img_size,img_size))\n",
        "            #resizing the image  into 100x100, since we need a fixed common size for all the images in the dataset\n",
        "            data.append(resized)\n",
        "            target.append(label_dict[category])\n",
        "            #appending the image and the label(categorized) into the list (dataset)\n",
        "        except Exception as e:\n",
        "            print('Exception:',e)\n",
        "            #if any exception rasied, the exception will be printed here. And pass to the next image"
      ],
      "execution_count": null,
      "outputs": []
    },
    {
      "cell_type": "code",
      "metadata": {
        "id": "qKYXckm8X1vu"
      },
      "source": [
        "import numpy as np\n",
        "data=np.array(data)/255.0\n",
        "data=np.reshape(data,(data.shape[0],img_size,img_size,3))\n",
        "target=np.array(target)\n",
        "from keras.utils import np_utils\n",
        "new_target=np_utils.to_categorical(target)"
      ],
      "execution_count": null,
      "outputs": []
    },
    {
      "cell_type": "code",
      "metadata": {
        "colab": {
          "base_uri": "https://localhost:8080/"
        },
        "id": "LhoU4wnzYzOF",
        "outputId": "304a3e5f-cbb5-4df5-97f7-158c919923b5"
      },
      "source": [
        "new_target.shape"
      ],
      "execution_count": null,
      "outputs": [
        {
          "output_type": "execute_result",
          "data": {
            "text/plain": [
              "(137, 2)"
            ]
          },
          "metadata": {
            "tags": []
          },
          "execution_count": 8
        }
      ]
    },
    {
      "cell_type": "code",
      "metadata": {
        "colab": {
          "base_uri": "https://localhost:8080/"
        },
        "id": "2FLWyUxCY43F",
        "outputId": "7abdf7ee-3247-4ffc-a0aa-439617d84748"
      },
      "source": [
        "data.shape"
      ],
      "execution_count": null,
      "outputs": [
        {
          "output_type": "execute_result",
          "data": {
            "text/plain": [
              "(137, 100, 100, 3)"
            ]
          },
          "metadata": {
            "tags": []
          },
          "execution_count": 9
        }
      ]
    },
    {
      "cell_type": "code",
      "metadata": {
        "colab": {
          "base_uri": "https://localhost:8080/"
        },
        "id": "_Hge5uPEY8G2",
        "outputId": "19f6aec9-1207-4360-9347-02ac07a79aff"
      },
      "source": [
        "data.shape[1:]"
      ],
      "execution_count": null,
      "outputs": [
        {
          "output_type": "execute_result",
          "data": {
            "text/plain": [
              "(100, 100, 3)"
            ]
          },
          "metadata": {
            "tags": []
          },
          "execution_count": 10
        }
      ]
    },
    {
      "cell_type": "code",
      "metadata": {
        "id": "YQfr_UF-1R0Q"
      },
      "source": [
        "model = tf.keras.models.Sequential([\n",
        "    tf.keras.layers.Conv2D(200, (3,3), activation='relu', input_shape=(100, 100, 3)),\n",
        "    tf.keras.layers.MaxPooling2D(2, 2),\n",
        "    tf.keras.layers.Conv2D(100, (3,3), activation='relu'),\n",
        "    tf.keras.layers.MaxPooling2D(2,2),\n",
        "    tf.keras.layers.Dropout(0.5),\n",
        "    tf.keras.layers.Flatten(),\n",
        "    tf.keras.layers.Dense(50, activation='relu'),\n",
        "    tf.keras.layers.Dense(2, activation='softmax')\n",
        "])\n"
      ],
      "execution_count": null,
      "outputs": []
    },
    {
      "cell_type": "code",
      "metadata": {
        "id": "sDtBVzc71bk4"
      },
      "source": [
        "model.compile(loss='categorical_crossentropy',\n",
        "              optimizer=RMSprop(lr=1e-4),\n",
        "              metrics=['accuracy'])"
      ],
      "execution_count": null,
      "outputs": []
    },
    {
      "cell_type": "code",
      "metadata": {
        "colab": {
          "base_uri": "https://localhost:8080/"
        },
        "id": "4a7lzh7ZZfdG",
        "outputId": "949290b8-cee4-47f2-875e-7796bbe6c7cc"
      },
      "source": [
        "model.summary()"
      ],
      "execution_count": null,
      "outputs": [
        {
          "output_type": "stream",
          "text": [
            "Model: \"sequential\"\n",
            "_________________________________________________________________\n",
            "Layer (type)                 Output Shape              Param #   \n",
            "=================================================================\n",
            "conv2d (Conv2D)              (None, 98, 98, 200)       5600      \n",
            "_________________________________________________________________\n",
            "max_pooling2d (MaxPooling2D) (None, 49, 49, 200)       0         \n",
            "_________________________________________________________________\n",
            "conv2d_1 (Conv2D)            (None, 47, 47, 100)       180100    \n",
            "_________________________________________________________________\n",
            "max_pooling2d_1 (MaxPooling2 (None, 23, 23, 100)       0         \n",
            "_________________________________________________________________\n",
            "dropout (Dropout)            (None, 23, 23, 100)       0         \n",
            "_________________________________________________________________\n",
            "flatten (Flatten)            (None, 52900)             0         \n",
            "_________________________________________________________________\n",
            "dense (Dense)                (None, 50)                2645050   \n",
            "_________________________________________________________________\n",
            "dense_1 (Dense)              (None, 2)                 102       \n",
            "=================================================================\n",
            "Total params: 2,830,852\n",
            "Trainable params: 2,830,852\n",
            "Non-trainable params: 0\n",
            "_________________________________________________________________\n"
          ],
          "name": "stdout"
        }
      ]
    },
    {
      "cell_type": "code",
      "metadata": {
        "id": "s5yhgI1ia1HM"
      },
      "source": [
        "from sklearn.model_selection import train_test_split\n",
        "train_data,test_data,train_target,test_target=train_test_split(data,new_target,test_size=0.1)"
      ],
      "execution_count": null,
      "outputs": []
    },
    {
      "cell_type": "code",
      "metadata": {
        "colab": {
          "base_uri": "https://localhost:8080/"
        },
        "id": "wBp92cjTa3Zt",
        "outputId": "476f06b9-81df-45bd-a648-a7b4b1897764"
      },
      "source": [
        "train_data.shape"
      ],
      "execution_count": null,
      "outputs": [
        {
          "output_type": "execute_result",
          "data": {
            "text/plain": [
              "(123, 100, 100, 3)"
            ]
          },
          "metadata": {
            "tags": []
          },
          "execution_count": 15
        }
      ]
    },
    {
      "cell_type": "code",
      "metadata": {
        "colab": {
          "base_uri": "https://localhost:8080/"
        },
        "id": "UNivnMfCa5wU",
        "outputId": "115e5b94-c0b5-47f4-bcce-85924cc44c0f"
      },
      "source": [
        "train_target.shape"
      ],
      "execution_count": null,
      "outputs": [
        {
          "output_type": "execute_result",
          "data": {
            "text/plain": [
              "(123, 2)"
            ]
          },
          "metadata": {
            "tags": []
          },
          "execution_count": 16
        }
      ]
    },
    {
      "cell_type": "code",
      "metadata": {
        "colab": {
          "base_uri": "https://localhost:8080/"
        },
        "id": "r_j4DMFfa-mG",
        "outputId": "6fb76ee1-da8c-4b27-c908-559e385cc8ef"
      },
      "source": [
        "history=model.fit(train_data,train_target,epochs=200,validation_split=0.2)"
      ],
      "execution_count": null,
      "outputs": [
        {
          "output_type": "stream",
          "text": [
            "Epoch 1/200\n",
            "4/4 [==============================] - 32s 470ms/step - loss: 0.7169 - accuracy: 0.4605 - val_loss: 1.2321 - val_accuracy: 0.6000\n",
            "Epoch 2/200\n",
            "4/4 [==============================] - 0s 80ms/step - loss: 1.0527 - accuracy: 0.5147 - val_loss: 0.7354 - val_accuracy: 0.4000\n",
            "Epoch 3/200\n",
            "4/4 [==============================] - 0s 78ms/step - loss: 0.6906 - accuracy: 0.5274 - val_loss: 0.6689 - val_accuracy: 0.4800\n",
            "Epoch 4/200\n",
            "4/4 [==============================] - 0s 79ms/step - loss: 0.6317 - accuracy: 0.6001 - val_loss: 0.6583 - val_accuracy: 0.6000\n",
            "Epoch 5/200\n",
            "4/4 [==============================] - 0s 83ms/step - loss: 0.7189 - accuracy: 0.5129 - val_loss: 0.5755 - val_accuracy: 0.8000\n",
            "Epoch 6/200\n",
            "4/4 [==============================] - 0s 82ms/step - loss: 0.6127 - accuracy: 0.6511 - val_loss: 0.5669 - val_accuracy: 0.6800\n",
            "Epoch 7/200\n",
            "4/4 [==============================] - 0s 82ms/step - loss: 0.5638 - accuracy: 0.7611 - val_loss: 1.0892 - val_accuracy: 0.4000\n",
            "Epoch 8/200\n",
            "4/4 [==============================] - 0s 80ms/step - loss: 0.7398 - accuracy: 0.5841 - val_loss: 0.9591 - val_accuracy: 0.4000\n",
            "Epoch 9/200\n",
            "4/4 [==============================] - 0s 79ms/step - loss: 0.6006 - accuracy: 0.6928 - val_loss: 0.7228 - val_accuracy: 0.6000\n",
            "Epoch 10/200\n",
            "4/4 [==============================] - 0s 81ms/step - loss: 0.7169 - accuracy: 0.6947 - val_loss: 0.9871 - val_accuracy: 0.4400\n",
            "Epoch 11/200\n",
            "4/4 [==============================] - 0s 80ms/step - loss: 0.6131 - accuracy: 0.6792 - val_loss: 0.4171 - val_accuracy: 0.8000\n",
            "Epoch 12/200\n",
            "4/4 [==============================] - 0s 80ms/step - loss: 0.4013 - accuracy: 0.8884 - val_loss: 0.4402 - val_accuracy: 0.8400\n",
            "Epoch 13/200\n",
            "4/4 [==============================] - 0s 80ms/step - loss: 0.3270 - accuracy: 0.9350 - val_loss: 0.3822 - val_accuracy: 0.9200\n",
            "Epoch 14/200\n",
            "4/4 [==============================] - 0s 82ms/step - loss: 0.5167 - accuracy: 0.7588 - val_loss: 1.1415 - val_accuracy: 0.4400\n",
            "Epoch 15/200\n",
            "4/4 [==============================] - 0s 82ms/step - loss: 0.3942 - accuracy: 0.8200 - val_loss: 0.5439 - val_accuracy: 0.6400\n",
            "Epoch 16/200\n",
            "4/4 [==============================] - 0s 81ms/step - loss: 0.4390 - accuracy: 0.7847 - val_loss: 0.5622 - val_accuracy: 0.6000\n",
            "Epoch 17/200\n",
            "4/4 [==============================] - 0s 82ms/step - loss: 0.5505 - accuracy: 0.7328 - val_loss: 0.5176 - val_accuracy: 0.6800\n",
            "Epoch 18/200\n",
            "4/4 [==============================] - 0s 81ms/step - loss: 0.5680 - accuracy: 0.6832 - val_loss: 0.3444 - val_accuracy: 0.8000\n",
            "Epoch 19/200\n",
            "4/4 [==============================] - 0s 80ms/step - loss: 0.3086 - accuracy: 0.8540 - val_loss: 0.2783 - val_accuracy: 0.9200\n",
            "Epoch 20/200\n",
            "4/4 [==============================] - 0s 80ms/step - loss: 0.2627 - accuracy: 0.9472 - val_loss: 0.2525 - val_accuracy: 0.9600\n",
            "Epoch 21/200\n",
            "4/4 [==============================] - 0s 80ms/step - loss: 0.2677 - accuracy: 0.9287 - val_loss: 0.2747 - val_accuracy: 0.9600\n",
            "Epoch 22/200\n",
            "4/4 [==============================] - 0s 86ms/step - loss: 0.1715 - accuracy: 0.9783 - val_loss: 0.2135 - val_accuracy: 0.9600\n",
            "Epoch 23/200\n",
            "4/4 [==============================] - 0s 95ms/step - loss: 0.1700 - accuracy: 0.9752 - val_loss: 1.8598 - val_accuracy: 0.4400\n",
            "Epoch 24/200\n",
            "4/4 [==============================] - 0s 82ms/step - loss: 0.8561 - accuracy: 0.6553 - val_loss: 0.2320 - val_accuracy: 0.9600\n",
            "Epoch 25/200\n",
            "4/4 [==============================] - 0s 78ms/step - loss: 0.1623 - accuracy: 0.9442 - val_loss: 0.2135 - val_accuracy: 0.9600\n",
            "Epoch 26/200\n",
            "4/4 [==============================] - 0s 79ms/step - loss: 0.2132 - accuracy: 0.9534 - val_loss: 0.3678 - val_accuracy: 0.8000\n",
            "Epoch 27/200\n",
            "4/4 [==============================] - 0s 80ms/step - loss: 0.4325 - accuracy: 0.7393 - val_loss: 0.1951 - val_accuracy: 0.9600\n",
            "Epoch 28/200\n",
            "4/4 [==============================] - 0s 80ms/step - loss: 0.1326 - accuracy: 0.9597 - val_loss: 0.2187 - val_accuracy: 0.8800\n",
            "Epoch 29/200\n",
            "4/4 [==============================] - 0s 82ms/step - loss: 0.2756 - accuracy: 0.8821 - val_loss: 0.1796 - val_accuracy: 0.9600\n",
            "Epoch 30/200\n",
            "4/4 [==============================] - 0s 79ms/step - loss: 0.1571 - accuracy: 0.9534 - val_loss: 0.2812 - val_accuracy: 0.8800\n",
            "Epoch 31/200\n",
            "4/4 [==============================] - 0s 79ms/step - loss: 0.1134 - accuracy: 0.9907 - val_loss: 0.1587 - val_accuracy: 0.9600\n",
            "Epoch 32/200\n",
            "4/4 [==============================] - 0s 80ms/step - loss: 0.1238 - accuracy: 0.9752 - val_loss: 0.7312 - val_accuracy: 0.5600\n",
            "Epoch 33/200\n",
            "4/4 [==============================] - 0s 80ms/step - loss: 0.3934 - accuracy: 0.7739 - val_loss: 0.2094 - val_accuracy: 0.9600\n",
            "Epoch 34/200\n",
            "4/4 [==============================] - 0s 79ms/step - loss: 0.0953 - accuracy: 0.9805 - val_loss: 1.2745 - val_accuracy: 0.4400\n",
            "Epoch 35/200\n",
            "4/4 [==============================] - 0s 78ms/step - loss: 0.2792 - accuracy: 0.8851 - val_loss: 0.4693 - val_accuracy: 0.7200\n",
            "Epoch 36/200\n",
            "4/4 [==============================] - 0s 78ms/step - loss: 0.0968 - accuracy: 0.9907 - val_loss: 0.1237 - val_accuracy: 1.0000\n",
            "Epoch 37/200\n",
            "4/4 [==============================] - 0s 79ms/step - loss: 0.1332 - accuracy: 0.9743 - val_loss: 0.2841 - val_accuracy: 0.8400\n",
            "Epoch 38/200\n",
            "4/4 [==============================] - 0s 79ms/step - loss: 0.1740 - accuracy: 0.9472 - val_loss: 0.5231 - val_accuracy: 0.7200\n",
            "Epoch 39/200\n",
            "4/4 [==============================] - 0s 81ms/step - loss: 0.1283 - accuracy: 0.9596 - val_loss: 0.1818 - val_accuracy: 0.9200\n",
            "Epoch 40/200\n",
            "4/4 [==============================] - 0s 79ms/step - loss: 0.0671 - accuracy: 0.9938 - val_loss: 0.0959 - val_accuracy: 1.0000\n",
            "Epoch 41/200\n",
            "4/4 [==============================] - 0s 79ms/step - loss: 0.1135 - accuracy: 0.9659 - val_loss: 1.2090 - val_accuracy: 0.5200\n",
            "Epoch 42/200\n",
            "4/4 [==============================] - 0s 81ms/step - loss: 0.2725 - accuracy: 0.8417 - val_loss: 0.0993 - val_accuracy: 1.0000\n",
            "Epoch 43/200\n",
            "4/4 [==============================] - 0s 80ms/step - loss: 0.0634 - accuracy: 1.0000 - val_loss: 0.1686 - val_accuracy: 0.9200\n",
            "Epoch 44/200\n",
            "4/4 [==============================] - 0s 79ms/step - loss: 0.1710 - accuracy: 0.9442 - val_loss: 0.2547 - val_accuracy: 0.8800\n",
            "Epoch 45/200\n",
            "4/4 [==============================] - 0s 83ms/step - loss: 0.0524 - accuracy: 1.0000 - val_loss: 0.1962 - val_accuracy: 0.8800\n",
            "Epoch 46/200\n",
            "4/4 [==============================] - 0s 81ms/step - loss: 0.1729 - accuracy: 0.9193 - val_loss: 0.1135 - val_accuracy: 1.0000\n",
            "Epoch 47/200\n",
            "4/4 [==============================] - 0s 79ms/step - loss: 0.0444 - accuracy: 1.0000 - val_loss: 0.2709 - val_accuracy: 0.8800\n",
            "Epoch 48/200\n",
            "4/4 [==============================] - 0s 81ms/step - loss: 0.0525 - accuracy: 0.9845 - val_loss: 0.1216 - val_accuracy: 1.0000\n",
            "Epoch 49/200\n",
            "4/4 [==============================] - 0s 82ms/step - loss: 0.0418 - accuracy: 1.0000 - val_loss: 0.0635 - val_accuracy: 1.0000\n",
            "Epoch 50/200\n",
            "4/4 [==============================] - 0s 79ms/step - loss: 0.0398 - accuracy: 1.0000 - val_loss: 0.0959 - val_accuracy: 0.9600\n",
            "Epoch 51/200\n",
            "4/4 [==============================] - 0s 81ms/step - loss: 0.3655 - accuracy: 0.8299 - val_loss: 0.4413 - val_accuracy: 0.8000\n",
            "Epoch 52/200\n",
            "4/4 [==============================] - 0s 79ms/step - loss: 0.0817 - accuracy: 0.9845 - val_loss: 0.0884 - val_accuracy: 1.0000\n",
            "Epoch 53/200\n",
            "4/4 [==============================] - 0s 79ms/step - loss: 0.0340 - accuracy: 1.0000 - val_loss: 0.0491 - val_accuracy: 1.0000\n",
            "Epoch 54/200\n",
            "4/4 [==============================] - 0s 81ms/step - loss: 0.0552 - accuracy: 0.9907 - val_loss: 0.1010 - val_accuracy: 1.0000\n",
            "Epoch 55/200\n",
            "4/4 [==============================] - 0s 79ms/step - loss: 0.0239 - accuracy: 1.0000 - val_loss: 0.1590 - val_accuracy: 0.9600\n",
            "Epoch 56/200\n",
            "4/4 [==============================] - 0s 79ms/step - loss: 0.0314 - accuracy: 1.0000 - val_loss: 0.0428 - val_accuracy: 1.0000\n",
            "Epoch 57/200\n",
            "4/4 [==============================] - 0s 81ms/step - loss: 0.0410 - accuracy: 1.0000 - val_loss: 0.1076 - val_accuracy: 1.0000\n",
            "Epoch 58/200\n",
            "4/4 [==============================] - 0s 82ms/step - loss: 0.0201 - accuracy: 1.0000 - val_loss: 0.0347 - val_accuracy: 1.0000\n",
            "Epoch 59/200\n",
            "4/4 [==============================] - 0s 80ms/step - loss: 0.0162 - accuracy: 1.0000 - val_loss: 0.0311 - val_accuracy: 1.0000\n",
            "Epoch 60/200\n",
            "4/4 [==============================] - 0s 79ms/step - loss: 0.0198 - accuracy: 1.0000 - val_loss: 0.1273 - val_accuracy: 0.9600\n",
            "Epoch 61/200\n",
            "4/4 [==============================] - 0s 81ms/step - loss: 0.1560 - accuracy: 0.9321 - val_loss: 0.2153 - val_accuracy: 0.8800\n",
            "Epoch 62/200\n",
            "4/4 [==============================] - 0s 83ms/step - loss: 0.0295 - accuracy: 1.0000 - val_loss: 0.0791 - val_accuracy: 1.0000\n",
            "Epoch 63/200\n",
            "4/4 [==============================] - 0s 82ms/step - loss: 0.0150 - accuracy: 1.0000 - val_loss: 0.0565 - val_accuracy: 1.0000\n",
            "Epoch 64/200\n",
            "4/4 [==============================] - 0s 79ms/step - loss: 0.0143 - accuracy: 1.0000 - val_loss: 0.0341 - val_accuracy: 1.0000\n",
            "Epoch 65/200\n",
            "4/4 [==============================] - 0s 82ms/step - loss: 0.0406 - accuracy: 1.0000 - val_loss: 0.0433 - val_accuracy: 1.0000\n",
            "Epoch 66/200\n",
            "4/4 [==============================] - 0s 79ms/step - loss: 0.0112 - accuracy: 1.0000 - val_loss: 0.0690 - val_accuracy: 1.0000\n",
            "Epoch 67/200\n",
            "4/4 [==============================] - 0s 83ms/step - loss: 0.0109 - accuracy: 1.0000 - val_loss: 0.0464 - val_accuracy: 1.0000\n",
            "Epoch 68/200\n",
            "4/4 [==============================] - 0s 83ms/step - loss: 0.0085 - accuracy: 1.0000 - val_loss: 0.0340 - val_accuracy: 1.0000\n",
            "Epoch 69/200\n",
            "4/4 [==============================] - 0s 80ms/step - loss: 0.0094 - accuracy: 1.0000 - val_loss: 0.0433 - val_accuracy: 1.0000\n",
            "Epoch 70/200\n",
            "4/4 [==============================] - 0s 80ms/step - loss: 0.0108 - accuracy: 1.0000 - val_loss: 0.0357 - val_accuracy: 1.0000\n",
            "Epoch 71/200\n",
            "4/4 [==============================] - 0s 84ms/step - loss: 0.0070 - accuracy: 1.0000 - val_loss: 0.0953 - val_accuracy: 0.9600\n",
            "Epoch 72/200\n",
            "4/4 [==============================] - 0s 83ms/step - loss: 0.0142 - accuracy: 1.0000 - val_loss: 1.9527 - val_accuracy: 0.4400\n",
            "Epoch 73/200\n",
            "4/4 [==============================] - 0s 82ms/step - loss: 0.3607 - accuracy: 0.8757 - val_loss: 0.0435 - val_accuracy: 1.0000\n",
            "Epoch 74/200\n",
            "4/4 [==============================] - 0s 81ms/step - loss: 0.0069 - accuracy: 1.0000 - val_loss: 0.0601 - val_accuracy: 1.0000\n",
            "Epoch 75/200\n",
            "4/4 [==============================] - 0s 81ms/step - loss: 0.0064 - accuracy: 1.0000 - val_loss: 0.0441 - val_accuracy: 1.0000\n",
            "Epoch 76/200\n",
            "4/4 [==============================] - 0s 80ms/step - loss: 0.0062 - accuracy: 1.0000 - val_loss: 0.0407 - val_accuracy: 1.0000\n",
            "Epoch 77/200\n",
            "4/4 [==============================] - 0s 80ms/step - loss: 0.0061 - accuracy: 1.0000 - val_loss: 0.0569 - val_accuracy: 1.0000\n",
            "Epoch 78/200\n",
            "4/4 [==============================] - 0s 82ms/step - loss: 0.0051 - accuracy: 1.0000 - val_loss: 0.0504 - val_accuracy: 1.0000\n",
            "Epoch 79/200\n",
            "4/4 [==============================] - 0s 83ms/step - loss: 0.0051 - accuracy: 1.0000 - val_loss: 0.0381 - val_accuracy: 1.0000\n",
            "Epoch 80/200\n",
            "4/4 [==============================] - 0s 84ms/step - loss: 0.0042 - accuracy: 1.0000 - val_loss: 0.0220 - val_accuracy: 1.0000\n",
            "Epoch 81/200\n",
            "4/4 [==============================] - 0s 79ms/step - loss: 0.0269 - accuracy: 1.0000 - val_loss: 0.0289 - val_accuracy: 1.0000\n",
            "Epoch 82/200\n",
            "4/4 [==============================] - 0s 80ms/step - loss: 0.0049 - accuracy: 1.0000 - val_loss: 0.0428 - val_accuracy: 1.0000\n",
            "Epoch 83/200\n",
            "4/4 [==============================] - 0s 81ms/step - loss: 0.0034 - accuracy: 1.0000 - val_loss: 0.0261 - val_accuracy: 1.0000\n",
            "Epoch 84/200\n",
            "4/4 [==============================] - 0s 80ms/step - loss: 0.0907 - accuracy: 0.9527 - val_loss: 0.0195 - val_accuracy: 1.0000\n",
            "Epoch 85/200\n",
            "4/4 [==============================] - 0s 80ms/step - loss: 0.0094 - accuracy: 1.0000 - val_loss: 0.0224 - val_accuracy: 1.0000\n",
            "Epoch 86/200\n",
            "4/4 [==============================] - 0s 79ms/step - loss: 0.0063 - accuracy: 1.0000 - val_loss: 0.0275 - val_accuracy: 1.0000\n",
            "Epoch 87/200\n",
            "4/4 [==============================] - 0s 83ms/step - loss: 0.0059 - accuracy: 1.0000 - val_loss: 0.0364 - val_accuracy: 1.0000\n",
            "Epoch 88/200\n",
            "4/4 [==============================] - 0s 82ms/step - loss: 0.0056 - accuracy: 1.0000 - val_loss: 0.0309 - val_accuracy: 1.0000\n",
            "Epoch 89/200\n",
            "4/4 [==============================] - 0s 86ms/step - loss: 0.0042 - accuracy: 1.0000 - val_loss: 0.0421 - val_accuracy: 1.0000\n",
            "Epoch 90/200\n",
            "4/4 [==============================] - 0s 78ms/step - loss: 0.0041 - accuracy: 1.0000 - val_loss: 0.0144 - val_accuracy: 1.0000\n",
            "Epoch 91/200\n",
            "4/4 [==============================] - 0s 83ms/step - loss: 0.0070 - accuracy: 1.0000 - val_loss: 0.0262 - val_accuracy: 1.0000\n",
            "Epoch 92/200\n",
            "4/4 [==============================] - 0s 80ms/step - loss: 0.0039 - accuracy: 1.0000 - val_loss: 0.1493 - val_accuracy: 0.8800\n",
            "Epoch 93/200\n",
            "4/4 [==============================] - 0s 79ms/step - loss: 0.0057 - accuracy: 1.0000 - val_loss: 0.0491 - val_accuracy: 1.0000\n",
            "Epoch 94/200\n",
            "4/4 [==============================] - 0s 82ms/step - loss: 0.0037 - accuracy: 1.0000 - val_loss: 0.0257 - val_accuracy: 1.0000\n",
            "Epoch 95/200\n",
            "4/4 [==============================] - 0s 80ms/step - loss: 0.0024 - accuracy: 1.0000 - val_loss: 0.0209 - val_accuracy: 1.0000\n",
            "Epoch 96/200\n",
            "4/4 [==============================] - 0s 83ms/step - loss: 0.0022 - accuracy: 1.0000 - val_loss: 0.0259 - val_accuracy: 1.0000\n",
            "Epoch 97/200\n",
            "4/4 [==============================] - 0s 79ms/step - loss: 0.0019 - accuracy: 1.0000 - val_loss: 0.0141 - val_accuracy: 1.0000\n",
            "Epoch 98/200\n",
            "4/4 [==============================] - 0s 81ms/step - loss: 0.0017 - accuracy: 1.0000 - val_loss: 0.0201 - val_accuracy: 1.0000\n",
            "Epoch 99/200\n",
            "4/4 [==============================] - 0s 81ms/step - loss: 0.0014 - accuracy: 1.0000 - val_loss: 0.0189 - val_accuracy: 1.0000\n",
            "Epoch 100/200\n",
            "4/4 [==============================] - 0s 78ms/step - loss: 0.0018 - accuracy: 1.0000 - val_loss: 0.0054 - val_accuracy: 1.0000\n",
            "Epoch 101/200\n",
            "4/4 [==============================] - 0s 83ms/step - loss: 0.2406 - accuracy: 0.9033 - val_loss: 0.0117 - val_accuracy: 1.0000\n",
            "Epoch 102/200\n",
            "4/4 [==============================] - 0s 83ms/step - loss: 0.0120 - accuracy: 1.0000 - val_loss: 0.0782 - val_accuracy: 1.0000\n",
            "Epoch 103/200\n",
            "4/4 [==============================] - 0s 83ms/step - loss: 0.0044 - accuracy: 1.0000 - val_loss: 0.0572 - val_accuracy: 1.0000\n",
            "Epoch 104/200\n",
            "4/4 [==============================] - 0s 81ms/step - loss: 0.0021 - accuracy: 1.0000 - val_loss: 0.0457 - val_accuracy: 1.0000\n",
            "Epoch 105/200\n",
            "4/4 [==============================] - 0s 81ms/step - loss: 0.0028 - accuracy: 1.0000 - val_loss: 0.0356 - val_accuracy: 1.0000\n",
            "Epoch 106/200\n",
            "4/4 [==============================] - 0s 82ms/step - loss: 0.0021 - accuracy: 1.0000 - val_loss: 0.0287 - val_accuracy: 1.0000\n",
            "Epoch 107/200\n",
            "4/4 [==============================] - 0s 81ms/step - loss: 0.0015 - accuracy: 1.0000 - val_loss: 0.0134 - val_accuracy: 1.0000\n",
            "Epoch 108/200\n",
            "4/4 [==============================] - 0s 81ms/step - loss: 0.0014 - accuracy: 1.0000 - val_loss: 0.0203 - val_accuracy: 1.0000\n",
            "Epoch 109/200\n",
            "4/4 [==============================] - 0s 78ms/step - loss: 0.0014 - accuracy: 1.0000 - val_loss: 0.0191 - val_accuracy: 1.0000\n",
            "Epoch 110/200\n",
            "4/4 [==============================] - 0s 80ms/step - loss: 0.0016 - accuracy: 1.0000 - val_loss: 0.0295 - val_accuracy: 1.0000\n",
            "Epoch 111/200\n",
            "4/4 [==============================] - 0s 79ms/step - loss: 0.0013 - accuracy: 1.0000 - val_loss: 0.0236 - val_accuracy: 1.0000\n",
            "Epoch 112/200\n",
            "4/4 [==============================] - 0s 78ms/step - loss: 0.0012 - accuracy: 1.0000 - val_loss: 0.0193 - val_accuracy: 1.0000\n",
            "Epoch 113/200\n",
            "4/4 [==============================] - 0s 84ms/step - loss: 0.0016 - accuracy: 1.0000 - val_loss: 0.0186 - val_accuracy: 1.0000\n",
            "Epoch 114/200\n",
            "4/4 [==============================] - 0s 79ms/step - loss: 8.7974e-04 - accuracy: 1.0000 - val_loss: 0.0056 - val_accuracy: 1.0000\n",
            "Epoch 115/200\n",
            "4/4 [==============================] - 0s 84ms/step - loss: 0.0020 - accuracy: 1.0000 - val_loss: 0.0098 - val_accuracy: 1.0000\n",
            "Epoch 116/200\n",
            "4/4 [==============================] - 0s 82ms/step - loss: 0.0011 - accuracy: 1.0000 - val_loss: 0.0183 - val_accuracy: 1.0000\n",
            "Epoch 117/200\n",
            "4/4 [==============================] - 0s 81ms/step - loss: 7.5935e-04 - accuracy: 1.0000 - val_loss: 0.0135 - val_accuracy: 1.0000\n",
            "Epoch 118/200\n",
            "4/4 [==============================] - 0s 80ms/step - loss: 6.4391e-04 - accuracy: 1.0000 - val_loss: 0.0099 - val_accuracy: 1.0000\n",
            "Epoch 119/200\n",
            "4/4 [==============================] - 0s 84ms/step - loss: 0.0010 - accuracy: 1.0000 - val_loss: 0.0050 - val_accuracy: 1.0000\n",
            "Epoch 120/200\n",
            "4/4 [==============================] - 0s 80ms/step - loss: 0.1763 - accuracy: 0.9281 - val_loss: 0.0102 - val_accuracy: 1.0000\n",
            "Epoch 121/200\n",
            "4/4 [==============================] - 0s 83ms/step - loss: 0.0027 - accuracy: 1.0000 - val_loss: 0.0120 - val_accuracy: 1.0000\n",
            "Epoch 122/200\n",
            "4/4 [==============================] - 0s 81ms/step - loss: 0.0016 - accuracy: 1.0000 - val_loss: 0.0144 - val_accuracy: 1.0000\n",
            "Epoch 123/200\n",
            "4/4 [==============================] - 0s 82ms/step - loss: 0.0017 - accuracy: 1.0000 - val_loss: 0.0157 - val_accuracy: 1.0000\n",
            "Epoch 124/200\n",
            "4/4 [==============================] - 0s 81ms/step - loss: 0.0014 - accuracy: 1.0000 - val_loss: 0.0166 - val_accuracy: 1.0000\n",
            "Epoch 125/200\n",
            "4/4 [==============================] - 0s 82ms/step - loss: 0.0014 - accuracy: 1.0000 - val_loss: 0.0187 - val_accuracy: 1.0000\n",
            "Epoch 126/200\n",
            "4/4 [==============================] - 0s 82ms/step - loss: 0.0013 - accuracy: 1.0000 - val_loss: 0.0207 - val_accuracy: 1.0000\n",
            "Epoch 127/200\n",
            "4/4 [==============================] - 0s 79ms/step - loss: 0.0012 - accuracy: 1.0000 - val_loss: 0.0270 - val_accuracy: 1.0000\n",
            "Epoch 128/200\n",
            "4/4 [==============================] - 0s 82ms/step - loss: 0.0011 - accuracy: 1.0000 - val_loss: 0.0265 - val_accuracy: 1.0000\n",
            "Epoch 129/200\n",
            "4/4 [==============================] - 0s 81ms/step - loss: 9.9309e-04 - accuracy: 1.0000 - val_loss: 0.0118 - val_accuracy: 1.0000\n",
            "Epoch 130/200\n",
            "4/4 [==============================] - 0s 80ms/step - loss: 0.0010 - accuracy: 1.0000 - val_loss: 0.0201 - val_accuracy: 1.0000\n",
            "Epoch 131/200\n",
            "4/4 [==============================] - 0s 84ms/step - loss: 9.8319e-04 - accuracy: 1.0000 - val_loss: 0.0255 - val_accuracy: 1.0000\n",
            "Epoch 132/200\n",
            "4/4 [==============================] - 0s 80ms/step - loss: 8.5689e-04 - accuracy: 1.0000 - val_loss: 0.0260 - val_accuracy: 1.0000\n",
            "Epoch 133/200\n",
            "4/4 [==============================] - 0s 84ms/step - loss: 9.1891e-04 - accuracy: 1.0000 - val_loss: 0.0255 - val_accuracy: 1.0000\n",
            "Epoch 134/200\n",
            "4/4 [==============================] - 0s 86ms/step - loss: 8.3856e-04 - accuracy: 1.0000 - val_loss: 0.0195 - val_accuracy: 1.0000\n",
            "Epoch 135/200\n",
            "4/4 [==============================] - 0s 81ms/step - loss: 6.4473e-04 - accuracy: 1.0000 - val_loss: 0.0222 - val_accuracy: 1.0000\n",
            "Epoch 136/200\n",
            "4/4 [==============================] - 0s 81ms/step - loss: 6.6554e-04 - accuracy: 1.0000 - val_loss: 0.0101 - val_accuracy: 1.0000\n",
            "Epoch 137/200\n",
            "4/4 [==============================] - 0s 85ms/step - loss: 5.8826e-04 - accuracy: 1.0000 - val_loss: 0.0110 - val_accuracy: 1.0000\n",
            "Epoch 138/200\n",
            "4/4 [==============================] - 0s 80ms/step - loss: 4.7261e-04 - accuracy: 1.0000 - val_loss: 0.0137 - val_accuracy: 1.0000\n",
            "Epoch 139/200\n",
            "4/4 [==============================] - 0s 82ms/step - loss: 5.2552e-04 - accuracy: 1.0000 - val_loss: 0.0109 - val_accuracy: 1.0000\n",
            "Epoch 140/200\n",
            "4/4 [==============================] - 0s 81ms/step - loss: 5.2053e-04 - accuracy: 1.0000 - val_loss: 0.0058 - val_accuracy: 1.0000\n",
            "Epoch 141/200\n",
            "4/4 [==============================] - 0s 82ms/step - loss: 3.6876e-04 - accuracy: 1.0000 - val_loss: 0.0095 - val_accuracy: 1.0000\n",
            "Epoch 142/200\n",
            "4/4 [==============================] - 0s 83ms/step - loss: 2.8265e-04 - accuracy: 1.0000 - val_loss: 0.0125 - val_accuracy: 1.0000\n",
            "Epoch 143/200\n",
            "4/4 [==============================] - 0s 80ms/step - loss: 2.9750e-04 - accuracy: 1.0000 - val_loss: 0.0091 - val_accuracy: 1.0000\n",
            "Epoch 144/200\n",
            "4/4 [==============================] - 0s 81ms/step - loss: 2.4502e-04 - accuracy: 1.0000 - val_loss: 0.0161 - val_accuracy: 1.0000\n",
            "Epoch 145/200\n",
            "4/4 [==============================] - 0s 84ms/step - loss: 0.0016 - accuracy: 1.0000 - val_loss: 1.0157 - val_accuracy: 0.6800\n",
            "Epoch 146/200\n",
            "4/4 [==============================] - 0s 83ms/step - loss: 0.2015 - accuracy: 0.9100 - val_loss: 0.1842 - val_accuracy: 0.8800\n",
            "Epoch 147/200\n",
            "4/4 [==============================] - 0s 83ms/step - loss: 0.0043 - accuracy: 1.0000 - val_loss: 0.0938 - val_accuracy: 0.9600\n",
            "Epoch 148/200\n",
            "4/4 [==============================] - 0s 81ms/step - loss: 0.0015 - accuracy: 1.0000 - val_loss: 0.0601 - val_accuracy: 0.9600\n",
            "Epoch 149/200\n",
            "4/4 [==============================] - 0s 83ms/step - loss: 6.1106e-04 - accuracy: 1.0000 - val_loss: 0.0471 - val_accuracy: 1.0000\n",
            "Epoch 150/200\n",
            "4/4 [==============================] - 0s 83ms/step - loss: 5.1355e-04 - accuracy: 1.0000 - val_loss: 0.0369 - val_accuracy: 1.0000\n",
            "Epoch 151/200\n",
            "4/4 [==============================] - 0s 84ms/step - loss: 3.2897e-04 - accuracy: 1.0000 - val_loss: 0.0196 - val_accuracy: 1.0000\n",
            "Epoch 152/200\n",
            "4/4 [==============================] - 0s 82ms/step - loss: 2.4977e-04 - accuracy: 1.0000 - val_loss: 0.0179 - val_accuracy: 1.0000\n",
            "Epoch 153/200\n",
            "4/4 [==============================] - 0s 81ms/step - loss: 2.5591e-04 - accuracy: 1.0000 - val_loss: 0.0169 - val_accuracy: 1.0000\n",
            "Epoch 154/200\n",
            "4/4 [==============================] - 0s 82ms/step - loss: 2.2591e-04 - accuracy: 1.0000 - val_loss: 0.0158 - val_accuracy: 1.0000\n",
            "Epoch 155/200\n",
            "4/4 [==============================] - 0s 79ms/step - loss: 2.6935e-04 - accuracy: 1.0000 - val_loss: 0.0142 - val_accuracy: 1.0000\n",
            "Epoch 156/200\n",
            "4/4 [==============================] - 0s 82ms/step - loss: 2.2157e-04 - accuracy: 1.0000 - val_loss: 0.0185 - val_accuracy: 1.0000\n",
            "Epoch 157/200\n",
            "4/4 [==============================] - 0s 79ms/step - loss: 2.0781e-04 - accuracy: 1.0000 - val_loss: 0.0140 - val_accuracy: 1.0000\n",
            "Epoch 158/200\n",
            "4/4 [==============================] - 0s 82ms/step - loss: 1.5656e-04 - accuracy: 1.0000 - val_loss: 0.0130 - val_accuracy: 1.0000\n",
            "Epoch 159/200\n",
            "4/4 [==============================] - 0s 82ms/step - loss: 2.3513e-04 - accuracy: 1.0000 - val_loss: 0.0120 - val_accuracy: 1.0000\n",
            "Epoch 160/200\n",
            "4/4 [==============================] - 0s 85ms/step - loss: 2.0880e-04 - accuracy: 1.0000 - val_loss: 0.0155 - val_accuracy: 1.0000\n",
            "Epoch 161/200\n",
            "4/4 [==============================] - 0s 84ms/step - loss: 1.6055e-04 - accuracy: 1.0000 - val_loss: 0.0109 - val_accuracy: 1.0000\n",
            "Epoch 162/200\n",
            "4/4 [==============================] - 0s 81ms/step - loss: 1.7341e-04 - accuracy: 1.0000 - val_loss: 0.0185 - val_accuracy: 1.0000\n",
            "Epoch 163/200\n",
            "4/4 [==============================] - 0s 82ms/step - loss: 1.6656e-04 - accuracy: 1.0000 - val_loss: 0.0119 - val_accuracy: 1.0000\n",
            "Epoch 164/200\n",
            "4/4 [==============================] - 0s 82ms/step - loss: 1.6472e-04 - accuracy: 1.0000 - val_loss: 0.0132 - val_accuracy: 1.0000\n",
            "Epoch 165/200\n",
            "4/4 [==============================] - 0s 79ms/step - loss: 1.6600e-04 - accuracy: 1.0000 - val_loss: 0.0154 - val_accuracy: 1.0000\n",
            "Epoch 166/200\n",
            "4/4 [==============================] - 0s 81ms/step - loss: 1.6166e-04 - accuracy: 1.0000 - val_loss: 0.0085 - val_accuracy: 1.0000\n",
            "Epoch 167/200\n",
            "4/4 [==============================] - 0s 82ms/step - loss: 1.3793e-04 - accuracy: 1.0000 - val_loss: 0.0211 - val_accuracy: 1.0000\n",
            "Epoch 168/200\n",
            "4/4 [==============================] - 0s 80ms/step - loss: 1.2797e-04 - accuracy: 1.0000 - val_loss: 0.5735 - val_accuracy: 0.8400\n",
            "Epoch 169/200\n",
            "4/4 [==============================] - 0s 80ms/step - loss: 0.6874 - accuracy: 0.8607 - val_loss: 0.0435 - val_accuracy: 1.0000\n",
            "Epoch 170/200\n",
            "4/4 [==============================] - 0s 85ms/step - loss: 5.7685e-04 - accuracy: 1.0000 - val_loss: 0.0400 - val_accuracy: 1.0000\n",
            "Epoch 171/200\n",
            "4/4 [==============================] - 0s 85ms/step - loss: 5.9458e-04 - accuracy: 1.0000 - val_loss: 0.0373 - val_accuracy: 1.0000\n",
            "Epoch 172/200\n",
            "4/4 [==============================] - 0s 82ms/step - loss: 5.4926e-04 - accuracy: 1.0000 - val_loss: 0.0346 - val_accuracy: 1.0000\n",
            "Epoch 173/200\n",
            "4/4 [==============================] - 0s 82ms/step - loss: 4.3126e-04 - accuracy: 1.0000 - val_loss: 0.0312 - val_accuracy: 1.0000\n",
            "Epoch 174/200\n",
            "4/4 [==============================] - 0s 81ms/step - loss: 2.8971e-04 - accuracy: 1.0000 - val_loss: 0.0207 - val_accuracy: 1.0000\n",
            "Epoch 175/200\n",
            "4/4 [==============================] - 0s 83ms/step - loss: 3.1102e-04 - accuracy: 1.0000 - val_loss: 0.0200 - val_accuracy: 1.0000\n",
            "Epoch 176/200\n",
            "4/4 [==============================] - 0s 82ms/step - loss: 2.6926e-04 - accuracy: 1.0000 - val_loss: 0.0184 - val_accuracy: 1.0000\n",
            "Epoch 177/200\n",
            "4/4 [==============================] - 0s 81ms/step - loss: 2.1131e-04 - accuracy: 1.0000 - val_loss: 0.0173 - val_accuracy: 1.0000\n",
            "Epoch 178/200\n",
            "4/4 [==============================] - 0s 84ms/step - loss: 2.1356e-04 - accuracy: 1.0000 - val_loss: 0.0163 - val_accuracy: 1.0000\n",
            "Epoch 179/200\n",
            "4/4 [==============================] - 0s 82ms/step - loss: 2.2695e-04 - accuracy: 1.0000 - val_loss: 0.0143 - val_accuracy: 1.0000\n",
            "Epoch 180/200\n",
            "4/4 [==============================] - 0s 80ms/step - loss: 1.7540e-04 - accuracy: 1.0000 - val_loss: 0.0066 - val_accuracy: 1.0000\n",
            "Epoch 181/200\n",
            "4/4 [==============================] - 0s 80ms/step - loss: 1.8860e-04 - accuracy: 1.0000 - val_loss: 0.0073 - val_accuracy: 1.0000\n",
            "Epoch 182/200\n",
            "4/4 [==============================] - 0s 86ms/step - loss: 1.5179e-04 - accuracy: 1.0000 - val_loss: 0.0080 - val_accuracy: 1.0000\n",
            "Epoch 183/200\n",
            "4/4 [==============================] - 0s 85ms/step - loss: 1.8079e-04 - accuracy: 1.0000 - val_loss: 0.0075 - val_accuracy: 1.0000\n",
            "Epoch 184/200\n",
            "4/4 [==============================] - 0s 81ms/step - loss: 1.8263e-04 - accuracy: 1.0000 - val_loss: 0.0079 - val_accuracy: 1.0000\n",
            "Epoch 185/200\n",
            "4/4 [==============================] - 0s 83ms/step - loss: 1.7049e-04 - accuracy: 1.0000 - val_loss: 0.0083 - val_accuracy: 1.0000\n",
            "Epoch 186/200\n",
            "4/4 [==============================] - 0s 83ms/step - loss: 1.7090e-04 - accuracy: 1.0000 - val_loss: 0.0098 - val_accuracy: 1.0000\n",
            "Epoch 187/200\n",
            "4/4 [==============================] - 0s 81ms/step - loss: 1.1009e-04 - accuracy: 1.0000 - val_loss: 0.0081 - val_accuracy: 1.0000\n",
            "Epoch 188/200\n",
            "4/4 [==============================] - 0s 85ms/step - loss: 1.4106e-04 - accuracy: 1.0000 - val_loss: 0.0100 - val_accuracy: 1.0000\n",
            "Epoch 189/200\n",
            "4/4 [==============================] - 0s 80ms/step - loss: 1.2058e-04 - accuracy: 1.0000 - val_loss: 0.0092 - val_accuracy: 1.0000\n",
            "Epoch 190/200\n",
            "4/4 [==============================] - 0s 84ms/step - loss: 1.3610e-04 - accuracy: 1.0000 - val_loss: 0.0137 - val_accuracy: 1.0000\n",
            "Epoch 191/200\n",
            "4/4 [==============================] - 0s 84ms/step - loss: 1.1218e-04 - accuracy: 1.0000 - val_loss: 0.0121 - val_accuracy: 1.0000\n",
            "Epoch 192/200\n",
            "4/4 [==============================] - 0s 81ms/step - loss: 1.0458e-04 - accuracy: 1.0000 - val_loss: 0.0109 - val_accuracy: 1.0000\n",
            "Epoch 193/200\n",
            "4/4 [==============================] - 0s 83ms/step - loss: 1.0016e-04 - accuracy: 1.0000 - val_loss: 0.0128 - val_accuracy: 1.0000\n",
            "Epoch 194/200\n",
            "4/4 [==============================] - 0s 82ms/step - loss: 1.1646e-04 - accuracy: 1.0000 - val_loss: 0.0097 - val_accuracy: 1.0000\n",
            "Epoch 195/200\n",
            "4/4 [==============================] - 0s 81ms/step - loss: 8.8074e-05 - accuracy: 1.0000 - val_loss: 0.0178 - val_accuracy: 1.0000\n",
            "Epoch 196/200\n",
            "4/4 [==============================] - 0s 84ms/step - loss: 8.9486e-05 - accuracy: 1.0000 - val_loss: 0.0114 - val_accuracy: 1.0000\n",
            "Epoch 197/200\n",
            "4/4 [==============================] - 0s 82ms/step - loss: 7.6636e-05 - accuracy: 1.0000 - val_loss: 0.0073 - val_accuracy: 1.0000\n",
            "Epoch 198/200\n",
            "4/4 [==============================] - 0s 83ms/step - loss: 6.3637e-05 - accuracy: 1.0000 - val_loss: 0.0441 - val_accuracy: 1.0000\n",
            "Epoch 199/200\n",
            "4/4 [==============================] - 0s 80ms/step - loss: 0.3049 - accuracy: 0.9322 - val_loss: 0.0026 - val_accuracy: 1.0000\n",
            "Epoch 200/200\n",
            "4/4 [==============================] - 0s 84ms/step - loss: 0.0050 - accuracy: 1.0000 - val_loss: 0.0012 - val_accuracy: 1.0000\n"
          ],
          "name": "stdout"
        }
      ]
    },
    {
      "cell_type": "code",
      "metadata": {
        "id": "Fb02NEJ6FBLh"
      },
      "source": [
        "model.save('model.h5')"
      ],
      "execution_count": null,
      "outputs": []
    },
    {
      "cell_type": "code",
      "metadata": {
        "id": "HeYu900ya_hV",
        "colab": {
          "base_uri": "https://localhost:8080/",
          "height": 299
        },
        "outputId": "422431d0-f60f-4f5b-b474-8ee4196234ac"
      },
      "source": [
        "import matplotlib.pyplot as plt\n",
        "\n",
        "N = 200\n",
        "plt.style.use(\"ggplot\")\n",
        "plt.figure()\n",
        "plt.plot(np.arange(0, N), history.history[\"loss\"], label=\"train_loss\")\n",
        "plt.plot(np.arange(0, N), history.history[\"val_loss\"], label=\"val_loss\")\n",
        "plt.plot(np.arange(0, N), history.history[\"accuracy\"], label=\"train_acc\")\n",
        "plt.plot(np.arange(0, N), history.history[\"val_accuracy\"], label=\"val_acc\")\n",
        "plt.title(\"Training Loss and Accuracy\")\n",
        "plt.xlabel(\"Epoch #\")\n",
        "plt.ylabel(\"Loss/Accuracy\")\n",
        "plt.legend(loc=\"center right\")\n",
        "plt.savefig(\"CNN_Model\")"
      ],
      "execution_count": null,
      "outputs": [
        {
          "output_type": "display_data",
          "data": {
            "image/png": "[encoded data removed]",
            "text/plain": [
              "<Figure size 432x288 with 1 Axes>"
            ]
          },
          "metadata": {
            "tags": []
          }
        }
      ]
    }
  ]
}